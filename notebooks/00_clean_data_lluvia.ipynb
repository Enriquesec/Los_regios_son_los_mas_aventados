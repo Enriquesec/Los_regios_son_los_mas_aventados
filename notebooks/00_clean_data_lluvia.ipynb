{
 "cells": [
  {
   "cell_type": "code",
   "execution_count": 27,
   "source": [
    "def reset_name_column(df):\n",
    "    '''\n",
    "    reset_name_column: esta funcion da formato a los nombres de las columnas. Convierte los nombres a minusculas,\n",
    "    reemplaza espacio por guión bajo y elimina caracteres especiales.\n",
    "\n",
    "    arg:\n",
    "        df: dataframe a renombrar\n",
    "    return:\n",
    "        df: dataframe renombrado.\n",
    "    '''\n",
    "    cols = df.columns\n",
    "    cols_new = []\n",
    "    for i in cols:\n",
    "        i.lower()\\\n",
    "            .replace(\" \", \"_\")\\\n",
    "            .replace(\"(\", \"\")\\\n",
    "            .replace(\")\", \"\")\n",
    "        cols_new.append(i)\n",
    "    return cols_new\n"
   ],
   "outputs": [],
   "metadata": {}
  },
  {
   "cell_type": "code",
   "execution_count": null,
   "source": [
    "# paquete para leer un pdf.\n",
    "!pip install tabula-py \n",
    "\n",
    "# creamos el directorio\n",
    "!mkdir ../data/raw/lluvia\n",
    "\n",
    "# instalamos la libreria request para manupular url's.\n",
    "!pip install requests\n"
   ],
   "outputs": [],
   "metadata": {}
  },
  {
   "cell_type": "markdown",
   "source": [
    "# Datos de lluvia.\n",
    "Este ETL's se encarga de procesar los datos de CONAGUA sobre la precipitación mensual en los 32 estados de México."
   ],
   "metadata": {}
  },
  {
   "cell_type": "code",
   "execution_count": 3,
   "source": [
    "import pandas as pd\n",
    "import numpy as np\n",
    "import tabula\n",
    "import requests"
   ],
   "outputs": [],
   "metadata": {}
  },
  {
   "cell_type": "markdown",
   "source": [
    "## Descargamos los datos"
   ],
   "metadata": {}
  },
  {
   "cell_type": "code",
   "execution_count": 78,
   "source": [
    "# descargamos los datos en formato pdf.\n",
    "for i in range(1985, 2021):\n",
    "    url = \"https://smn.conagua.gob.mx/tools/DATA/Climatolog%C3%ADa/Pron%C3%B3stico%20clim%C3%A1tico/Temperatura%20y%20Lluvia/PREC/\"+str(int(i))+\".pdf\"\n",
    "    r = requests.get(url, allow_redirects=True)\n",
    "    open(\"../data/raw/lluvia/\"+str(int(i))+\".pdf\", \"wb\").write(r.content)"
   ],
   "outputs": [],
   "metadata": {}
  },
  {
   "cell_type": "markdown",
   "source": [
    "## Procesamiento de los archivos .pdf\n",
    "\n",
    "Los datos se encuentran en archivos pdf, por lo que los leemos con la biblioteca *tabula*."
   ],
   "metadata": {}
  },
  {
   "cell_type": "code",
   "execution_count": 51,
   "source": [
    "df_final = pd.DataFrame(columns=[\"Entidad\", \"mes\", \"lluvia_mean\"])\n",
    "col_lluvia = ['entidad', 'ene', 'feb', 'mar', 'abr', 'may', 'jun', 'jul', 'ago',\n",
    "       'sep', 'oct', 'nov', 'dic', 'anual']\n",
    "\n",
    "\n",
    "\n",
    "for i in range(1985, 2020):\n",
    "   print(i)\n",
    "   pdf = tabula.read_pdf(\"../data/raw/lluvia/\"+str(i)+\".pdf\", pages=1)\n",
    "   try:\n",
    "      pdf = pdf[0]\n",
    "   except:\n",
    "      continue\n",
    "   if pdf.shape[1] == len(col_lluvia):\n",
    "      pdf.columns = [x.lower() for x in pdf.columns]\n",
    "      pdf.to_csv(\"../data/processed/lluvia/mensual/\"+str(i)+\".csv\", index=False)\n",
    "   elif pdf.shape[1]==5:\n",
    "      pdf.columns = pdf.iloc[0].tolist()\n",
    "      pdf = pdf.iloc[1:]\n",
    "      pdf[pdf.columns[3].split()] = pdf[pdf.columns[3]].str.split(expand=True)\n",
    "      pdf.columns = [x.lower() for x in pdf.columns]\n",
    "      pdf[col_lluvia].to_csv(\"../data/processed/lluvia/mensual/\"+str(i)+\".csv\", index=False)\n",
    "   else:\n",
    "      continue\n"
   ],
   "outputs": [
    {
     "output_type": "stream",
     "name": "stdout",
     "text": [
      "1985\n"
     ]
    },
    {
     "output_type": "stream",
     "name": "stderr",
     "text": [
      "Got stderr: jul. 19, 2021 8:25:40 P. M. org.apache.pdfbox.pdmodel.font.PDType1Font <init>\n",
      "ADVERTENCIA: Using fallback font NimbusSanL-Regu for Soberana Sans Regular\n",
      "jul. 19, 2021 8:25:47 P. M. org.apache.pdfbox.pdmodel.font.PDType1Font <init>\n",
      "ADVERTENCIA: Using fallback font NimbusSanL-Regu for Soberana Sans Regular\n",
      "\n"
     ]
    },
    {
     "output_type": "stream",
     "name": "stdout",
     "text": [
      "1986\n"
     ]
    },
    {
     "output_type": "stream",
     "name": "stderr",
     "text": [
      "Got stderr: jul. 19, 2021 8:25:52 P. M. org.apache.pdfbox.pdmodel.font.PDType1Font <init>\n",
      "ADVERTENCIA: Using fallback font NimbusSanL-Regu for Soberana Sans Regular\n",
      "jul. 19, 2021 8:26:00 P. M. org.apache.pdfbox.pdmodel.font.PDType1Font <init>\n",
      "ADVERTENCIA: Using fallback font NimbusSanL-Regu for Soberana Sans Regular\n",
      "\n"
     ]
    },
    {
     "output_type": "stream",
     "name": "stdout",
     "text": [
      "1987\n"
     ]
    },
    {
     "output_type": "stream",
     "name": "stderr",
     "text": [
      "Got stderr: jul. 19, 2021 8:26:05 P. M. org.apache.pdfbox.pdmodel.font.PDType1Font <init>\n",
      "ADVERTENCIA: Using fallback font NimbusSanL-Regu for Soberana Sans Regular\n",
      "jul. 19, 2021 8:26:13 P. M. org.apache.pdfbox.pdmodel.font.PDType1Font <init>\n",
      "ADVERTENCIA: Using fallback font NimbusSanL-Regu for Soberana Sans Regular\n",
      "\n"
     ]
    },
    {
     "output_type": "stream",
     "name": "stdout",
     "text": [
      "1988\n"
     ]
    },
    {
     "output_type": "stream",
     "name": "stderr",
     "text": [
      "Got stderr: jul. 19, 2021 8:26:18 P. M. org.apache.pdfbox.pdmodel.font.PDType1Font <init>\n",
      "ADVERTENCIA: Using fallback font NimbusSanL-Regu for Soberana Sans Regular\n",
      "jul. 19, 2021 8:26:25 P. M. org.apache.pdfbox.pdmodel.font.PDType1Font <init>\n",
      "ADVERTENCIA: Using fallback font NimbusSanL-Regu for Soberana Sans Regular\n",
      "\n"
     ]
    },
    {
     "output_type": "stream",
     "name": "stdout",
     "text": [
      "1989\n"
     ]
    },
    {
     "output_type": "stream",
     "name": "stderr",
     "text": [
      "Got stderr: jul. 19, 2021 8:26:30 P. M. org.apache.pdfbox.pdmodel.font.PDType1Font <init>\n",
      "ADVERTENCIA: Using fallback font NimbusSanL-Regu for Soberana Sans Regular\n",
      "jul. 19, 2021 8:26:38 P. M. org.apache.pdfbox.pdmodel.font.PDType1Font <init>\n",
      "ADVERTENCIA: Using fallback font NimbusSanL-Regu for Soberana Sans Regular\n",
      "\n"
     ]
    },
    {
     "output_type": "stream",
     "name": "stdout",
     "text": [
      "1990\n"
     ]
    },
    {
     "output_type": "stream",
     "name": "stderr",
     "text": [
      "Got stderr: jul. 19, 2021 8:26:44 P. M. org.apache.pdfbox.pdmodel.font.PDType1Font <init>\n",
      "ADVERTENCIA: Using fallback font NimbusSanL-Regu for Soberana Sans Regular\n",
      "jul. 19, 2021 8:26:51 P. M. org.apache.pdfbox.pdmodel.font.PDType1Font <init>\n",
      "ADVERTENCIA: Using fallback font NimbusSanL-Regu for Soberana Sans Regular\n",
      "\n"
     ]
    },
    {
     "output_type": "stream",
     "name": "stdout",
     "text": [
      "1991\n"
     ]
    },
    {
     "output_type": "stream",
     "name": "stderr",
     "text": [
      "Got stderr: jul. 19, 2021 8:26:56 P. M. org.apache.pdfbox.pdmodel.font.PDType1Font <init>\n",
      "ADVERTENCIA: Using fallback font NimbusSanL-Regu for Soberana Sans Regular\n",
      "jul. 19, 2021 8:27:03 P. M. org.apache.pdfbox.pdmodel.font.PDType1Font <init>\n",
      "ADVERTENCIA: Using fallback font NimbusSanL-Regu for Soberana Sans Regular\n",
      "\n"
     ]
    },
    {
     "output_type": "stream",
     "name": "stdout",
     "text": [
      "1992\n"
     ]
    },
    {
     "output_type": "stream",
     "name": "stderr",
     "text": [
      "Got stderr: jul. 19, 2021 8:27:07 P. M. org.apache.pdfbox.pdmodel.font.PDType1Font <init>\n",
      "ADVERTENCIA: Using fallback font NimbusSanL-Regu for Soberana Sans Regular\n",
      "jul. 19, 2021 8:27:16 P. M. org.apache.pdfbox.pdmodel.font.PDType1Font <init>\n",
      "ADVERTENCIA: Using fallback font NimbusSanL-Regu for Soberana Sans Regular\n",
      "\n"
     ]
    },
    {
     "output_type": "stream",
     "name": "stdout",
     "text": [
      "1993\n"
     ]
    },
    {
     "output_type": "stream",
     "name": "stderr",
     "text": [
      "Got stderr: jul. 19, 2021 8:27:21 P. M. org.apache.pdfbox.pdmodel.font.PDType1Font <init>\n",
      "ADVERTENCIA: Using fallback font NimbusSanL-Regu for Soberana Sans Regular\n",
      "jul. 19, 2021 8:27:27 P. M. org.apache.pdfbox.pdmodel.font.PDType1Font <init>\n",
      "ADVERTENCIA: Using fallback font NimbusSanL-Regu for Soberana Sans Regular\n",
      "\n"
     ]
    },
    {
     "output_type": "stream",
     "name": "stdout",
     "text": [
      "1994\n"
     ]
    },
    {
     "output_type": "stream",
     "name": "stderr",
     "text": [
      "Got stderr: jul. 19, 2021 8:27:32 P. M. org.apache.pdfbox.pdmodel.font.PDType1Font <init>\n",
      "ADVERTENCIA: Using fallback font NimbusSanL-Regu for Soberana Sans Regular\n",
      "jul. 19, 2021 8:27:41 P. M. org.apache.pdfbox.pdmodel.font.PDType1Font <init>\n",
      "ADVERTENCIA: Using fallback font NimbusSanL-Regu for Soberana Sans Regular\n",
      "\n"
     ]
    },
    {
     "output_type": "stream",
     "name": "stdout",
     "text": [
      "1995\n"
     ]
    },
    {
     "output_type": "stream",
     "name": "stderr",
     "text": [
      "Got stderr: jul. 19, 2021 8:27:47 P. M. org.apache.pdfbox.pdmodel.font.PDType1Font <init>\n",
      "ADVERTENCIA: Using fallback font NimbusSanL-Regu for Soberana Sans Regular\n",
      "jul. 19, 2021 8:27:55 P. M. org.apache.pdfbox.pdmodel.font.PDType1Font <init>\n",
      "ADVERTENCIA: Using fallback font NimbusSanL-Regu for Soberana Sans Regular\n",
      "\n"
     ]
    },
    {
     "output_type": "stream",
     "name": "stdout",
     "text": [
      "1996\n"
     ]
    },
    {
     "output_type": "stream",
     "name": "stderr",
     "text": [
      "Got stderr: jul. 19, 2021 8:28:02 P. M. org.apache.pdfbox.pdmodel.font.PDType1Font <init>\n",
      "ADVERTENCIA: Using fallback font NimbusSanL-Regu for Soberana Sans Regular\n",
      "jul. 19, 2021 8:28:09 P. M. org.apache.pdfbox.pdmodel.font.PDType1Font <init>\n",
      "ADVERTENCIA: Using fallback font NimbusSanL-Regu for Soberana Sans Regular\n",
      "\n"
     ]
    },
    {
     "output_type": "stream",
     "name": "stdout",
     "text": [
      "1997\n"
     ]
    },
    {
     "output_type": "stream",
     "name": "stderr",
     "text": [
      "Got stderr: jul. 19, 2021 8:28:18 P. M. org.apache.pdfbox.pdmodel.font.PDType1Font <init>\n",
      "ADVERTENCIA: Using fallback font NimbusSanL-Regu for Soberana Sans Regular\n",
      "jul. 19, 2021 8:28:27 P. M. org.apache.pdfbox.pdmodel.font.PDType1Font <init>\n",
      "ADVERTENCIA: Using fallback font NimbusSanL-Regu for Soberana Sans Regular\n",
      "\n"
     ]
    },
    {
     "output_type": "stream",
     "name": "stdout",
     "text": [
      "1998\n"
     ]
    },
    {
     "output_type": "stream",
     "name": "stderr",
     "text": [
      "Got stderr: jul. 19, 2021 8:28:33 P. M. org.apache.pdfbox.pdmodel.font.PDType1Font <init>\n",
      "ADVERTENCIA: Using fallback font NimbusSanL-Regu for Soberana Sans Regular\n",
      "jul. 19, 2021 8:28:41 P. M. org.apache.pdfbox.pdmodel.font.PDType1Font <init>\n",
      "ADVERTENCIA: Using fallback font NimbusSanL-Regu for Soberana Sans Regular\n",
      "\n"
     ]
    },
    {
     "output_type": "stream",
     "name": "stdout",
     "text": [
      "1999\n"
     ]
    },
    {
     "output_type": "stream",
     "name": "stderr",
     "text": [
      "Got stderr: jul. 19, 2021 8:28:50 P. M. org.apache.pdfbox.pdmodel.font.PDType1Font <init>\n",
      "ADVERTENCIA: Using fallback font NimbusSanL-Regu for Soberana Sans Regular\n",
      "jul. 19, 2021 8:28:59 P. M. org.apache.pdfbox.pdmodel.font.PDType1Font <init>\n",
      "ADVERTENCIA: Using fallback font NimbusSanL-Regu for Soberana Sans Regular\n",
      "\n"
     ]
    },
    {
     "output_type": "stream",
     "name": "stdout",
     "text": [
      "2000\n"
     ]
    },
    {
     "output_type": "stream",
     "name": "stderr",
     "text": [
      "Got stderr: jul. 19, 2021 8:29:06 P. M. org.apache.pdfbox.pdmodel.font.PDType1Font <init>\n",
      "ADVERTENCIA: Using fallback font NimbusSanL-Regu for Soberana Sans Regular\n",
      "jul. 19, 2021 8:29:14 P. M. org.apache.pdfbox.pdmodel.font.PDType1Font <init>\n",
      "ADVERTENCIA: Using fallback font NimbusSanL-Regu for Soberana Sans Regular\n",
      "\n"
     ]
    },
    {
     "output_type": "stream",
     "name": "stdout",
     "text": [
      "2001\n"
     ]
    },
    {
     "output_type": "stream",
     "name": "stderr",
     "text": [
      "Got stderr: jul. 19, 2021 8:29:21 P. M. org.apache.pdfbox.pdmodel.font.PDType1Font <init>\n",
      "ADVERTENCIA: Using fallback font NimbusSanL-Regu for Soberana Sans Regular\n",
      "jul. 19, 2021 8:29:28 P. M. org.apache.pdfbox.pdmodel.font.PDType1Font <init>\n",
      "ADVERTENCIA: Using fallback font NimbusSanL-Regu for Soberana Sans Regular\n",
      "\n"
     ]
    },
    {
     "output_type": "stream",
     "name": "stdout",
     "text": [
      "2002\n"
     ]
    },
    {
     "output_type": "stream",
     "name": "stderr",
     "text": [
      "Got stderr: jul. 19, 2021 8:29:36 P. M. org.apache.pdfbox.pdmodel.font.PDType1Font <init>\n",
      "ADVERTENCIA: Using fallback font NimbusSanL-Regu for Soberana Sans Regular\n",
      "jul. 19, 2021 8:29:43 P. M. org.apache.pdfbox.pdmodel.font.PDType1Font <init>\n",
      "ADVERTENCIA: Using fallback font NimbusSanL-Regu for Soberana Sans Regular\n",
      "\n"
     ]
    },
    {
     "output_type": "stream",
     "name": "stdout",
     "text": [
      "2003\n"
     ]
    },
    {
     "output_type": "stream",
     "name": "stderr",
     "text": [
      "Got stderr: jul. 19, 2021 8:29:49 P. M. org.apache.pdfbox.pdmodel.font.PDType1Font <init>\n",
      "ADVERTENCIA: Using fallback font NimbusSanL-Regu for Soberana Sans Regular\n",
      "jul. 19, 2021 8:29:58 P. M. org.apache.pdfbox.pdmodel.font.PDType1Font <init>\n",
      "ADVERTENCIA: Using fallback font NimbusSanL-Regu for Soberana Sans Regular\n",
      "\n"
     ]
    },
    {
     "output_type": "stream",
     "name": "stdout",
     "text": [
      "2004\n"
     ]
    },
    {
     "output_type": "stream",
     "name": "stderr",
     "text": [
      "Got stderr: jul. 19, 2021 8:30:04 P. M. org.apache.pdfbox.pdmodel.font.PDType1Font <init>\n",
      "ADVERTENCIA: Using fallback font NimbusSanL-Regu for Soberana Sans Regular\n",
      "\n"
     ]
    },
    {
     "output_type": "error",
     "ename": "KeyError",
     "evalue": "\"None of [Index(['entidad', 'ene', 'feb', 'mar', 'abr', 'may', 'jun', 'jul', 'ago',\\n       'sep', 'oct', 'nov', 'dic', 'anual'],\\n      dtype='object')] are in the [columns]\"",
     "traceback": [
      "\u001b[0;31m---------------------------------------------------------------------------\u001b[0m",
      "\u001b[0;31mKeyError\u001b[0m                                  Traceback (most recent call last)",
      "\u001b[0;32m<ipython-input-51-bef524f24862>\u001b[0m in \u001b[0;36m<module>\u001b[0;34m\u001b[0m\n\u001b[1;32m     14\u001b[0m    \u001b[0;32mif\u001b[0m \u001b[0mpdf\u001b[0m\u001b[0;34m.\u001b[0m\u001b[0mshape\u001b[0m\u001b[0;34m[\u001b[0m\u001b[0;36m1\u001b[0m\u001b[0;34m]\u001b[0m \u001b[0;34m==\u001b[0m \u001b[0mlen\u001b[0m\u001b[0;34m(\u001b[0m\u001b[0mcol_lluvia\u001b[0m\u001b[0;34m)\u001b[0m\u001b[0;34m:\u001b[0m\u001b[0;34m\u001b[0m\u001b[0;34m\u001b[0m\u001b[0m\n\u001b[1;32m     15\u001b[0m       \u001b[0mpdf\u001b[0m\u001b[0;34m.\u001b[0m\u001b[0mcolumns\u001b[0m \u001b[0;34m=\u001b[0m \u001b[0;34m[\u001b[0m\u001b[0mx\u001b[0m\u001b[0;34m.\u001b[0m\u001b[0mlower\u001b[0m\u001b[0;34m(\u001b[0m\u001b[0;34m)\u001b[0m \u001b[0;32mfor\u001b[0m \u001b[0mx\u001b[0m \u001b[0;32min\u001b[0m \u001b[0mpdf\u001b[0m\u001b[0;34m.\u001b[0m\u001b[0mcolumns\u001b[0m\u001b[0;34m]\u001b[0m\u001b[0;34m\u001b[0m\u001b[0;34m\u001b[0m\u001b[0m\n\u001b[0;32m---> 16\u001b[0;31m       \u001b[0mpdf\u001b[0m\u001b[0;34m[\u001b[0m\u001b[0mcol_lluvia\u001b[0m\u001b[0;34m]\u001b[0m\u001b[0;34m.\u001b[0m\u001b[0mto_csv\u001b[0m\u001b[0;34m(\u001b[0m\u001b[0;34m\"../data/processed/lluvia/mensual/\"\u001b[0m\u001b[0;34m+\u001b[0m\u001b[0mstr\u001b[0m\u001b[0;34m(\u001b[0m\u001b[0mi\u001b[0m\u001b[0;34m)\u001b[0m\u001b[0;34m+\u001b[0m\u001b[0;34m\".csv\"\u001b[0m\u001b[0;34m,\u001b[0m \u001b[0mindex\u001b[0m\u001b[0;34m=\u001b[0m\u001b[0;32mFalse\u001b[0m\u001b[0;34m)\u001b[0m\u001b[0;34m\u001b[0m\u001b[0;34m\u001b[0m\u001b[0m\n\u001b[0m\u001b[1;32m     17\u001b[0m    \u001b[0;32melif\u001b[0m \u001b[0mpdf\u001b[0m\u001b[0;34m.\u001b[0m\u001b[0mshape\u001b[0m\u001b[0;34m[\u001b[0m\u001b[0;36m1\u001b[0m\u001b[0;34m]\u001b[0m\u001b[0;34m==\u001b[0m\u001b[0;36m5\u001b[0m\u001b[0;34m:\u001b[0m\u001b[0;34m\u001b[0m\u001b[0;34m\u001b[0m\u001b[0m\n\u001b[1;32m     18\u001b[0m       \u001b[0mpdf\u001b[0m\u001b[0;34m.\u001b[0m\u001b[0mcolumns\u001b[0m \u001b[0;34m=\u001b[0m \u001b[0mpdf\u001b[0m\u001b[0;34m.\u001b[0m\u001b[0miloc\u001b[0m\u001b[0;34m[\u001b[0m\u001b[0;36m0\u001b[0m\u001b[0;34m]\u001b[0m\u001b[0;34m.\u001b[0m\u001b[0mtolist\u001b[0m\u001b[0;34m(\u001b[0m\u001b[0;34m)\u001b[0m\u001b[0;34m\u001b[0m\u001b[0;34m\u001b[0m\u001b[0m\n",
      "\u001b[0;32m~/anaconda3/envs/kaggle-titanic/lib/python3.9/site-packages/pandas/core/frame.py\u001b[0m in \u001b[0;36m__getitem__\u001b[0;34m(self, key)\u001b[0m\n\u001b[1;32m   2910\u001b[0m             \u001b[0;32mif\u001b[0m \u001b[0mis_iterator\u001b[0m\u001b[0;34m(\u001b[0m\u001b[0mkey\u001b[0m\u001b[0;34m)\u001b[0m\u001b[0;34m:\u001b[0m\u001b[0;34m\u001b[0m\u001b[0;34m\u001b[0m\u001b[0m\n\u001b[1;32m   2911\u001b[0m                 \u001b[0mkey\u001b[0m \u001b[0;34m=\u001b[0m \u001b[0mlist\u001b[0m\u001b[0;34m(\u001b[0m\u001b[0mkey\u001b[0m\u001b[0;34m)\u001b[0m\u001b[0;34m\u001b[0m\u001b[0;34m\u001b[0m\u001b[0m\n\u001b[0;32m-> 2912\u001b[0;31m             \u001b[0mindexer\u001b[0m \u001b[0;34m=\u001b[0m \u001b[0mself\u001b[0m\u001b[0;34m.\u001b[0m\u001b[0mloc\u001b[0m\u001b[0;34m.\u001b[0m\u001b[0m_get_listlike_indexer\u001b[0m\u001b[0;34m(\u001b[0m\u001b[0mkey\u001b[0m\u001b[0;34m,\u001b[0m \u001b[0maxis\u001b[0m\u001b[0;34m=\u001b[0m\u001b[0;36m1\u001b[0m\u001b[0;34m,\u001b[0m \u001b[0mraise_missing\u001b[0m\u001b[0;34m=\u001b[0m\u001b[0;32mTrue\u001b[0m\u001b[0;34m)\u001b[0m\u001b[0;34m[\u001b[0m\u001b[0;36m1\u001b[0m\u001b[0;34m]\u001b[0m\u001b[0;34m\u001b[0m\u001b[0;34m\u001b[0m\u001b[0m\n\u001b[0m\u001b[1;32m   2913\u001b[0m \u001b[0;34m\u001b[0m\u001b[0m\n\u001b[1;32m   2914\u001b[0m         \u001b[0;31m# take() does not accept boolean indexers\u001b[0m\u001b[0;34m\u001b[0m\u001b[0;34m\u001b[0m\u001b[0;34m\u001b[0m\u001b[0m\n",
      "\u001b[0;32m~/anaconda3/envs/kaggle-titanic/lib/python3.9/site-packages/pandas/core/indexing.py\u001b[0m in \u001b[0;36m_get_listlike_indexer\u001b[0;34m(self, key, axis, raise_missing)\u001b[0m\n\u001b[1;32m   1252\u001b[0m             \u001b[0mkeyarr\u001b[0m\u001b[0;34m,\u001b[0m \u001b[0mindexer\u001b[0m\u001b[0;34m,\u001b[0m \u001b[0mnew_indexer\u001b[0m \u001b[0;34m=\u001b[0m \u001b[0max\u001b[0m\u001b[0;34m.\u001b[0m\u001b[0m_reindex_non_unique\u001b[0m\u001b[0;34m(\u001b[0m\u001b[0mkeyarr\u001b[0m\u001b[0;34m)\u001b[0m\u001b[0;34m\u001b[0m\u001b[0;34m\u001b[0m\u001b[0m\n\u001b[1;32m   1253\u001b[0m \u001b[0;34m\u001b[0m\u001b[0m\n\u001b[0;32m-> 1254\u001b[0;31m         \u001b[0mself\u001b[0m\u001b[0;34m.\u001b[0m\u001b[0m_validate_read_indexer\u001b[0m\u001b[0;34m(\u001b[0m\u001b[0mkeyarr\u001b[0m\u001b[0;34m,\u001b[0m \u001b[0mindexer\u001b[0m\u001b[0;34m,\u001b[0m \u001b[0maxis\u001b[0m\u001b[0;34m,\u001b[0m \u001b[0mraise_missing\u001b[0m\u001b[0;34m=\u001b[0m\u001b[0mraise_missing\u001b[0m\u001b[0;34m)\u001b[0m\u001b[0;34m\u001b[0m\u001b[0;34m\u001b[0m\u001b[0m\n\u001b[0m\u001b[1;32m   1255\u001b[0m         \u001b[0;32mreturn\u001b[0m \u001b[0mkeyarr\u001b[0m\u001b[0;34m,\u001b[0m \u001b[0mindexer\u001b[0m\u001b[0;34m\u001b[0m\u001b[0;34m\u001b[0m\u001b[0m\n\u001b[1;32m   1256\u001b[0m \u001b[0;34m\u001b[0m\u001b[0m\n",
      "\u001b[0;32m~/anaconda3/envs/kaggle-titanic/lib/python3.9/site-packages/pandas/core/indexing.py\u001b[0m in \u001b[0;36m_validate_read_indexer\u001b[0;34m(self, key, indexer, axis, raise_missing)\u001b[0m\n\u001b[1;32m   1296\u001b[0m             \u001b[0;32mif\u001b[0m \u001b[0mmissing\u001b[0m \u001b[0;34m==\u001b[0m \u001b[0mlen\u001b[0m\u001b[0;34m(\u001b[0m\u001b[0mindexer\u001b[0m\u001b[0;34m)\u001b[0m\u001b[0;34m:\u001b[0m\u001b[0;34m\u001b[0m\u001b[0;34m\u001b[0m\u001b[0m\n\u001b[1;32m   1297\u001b[0m                 \u001b[0maxis_name\u001b[0m \u001b[0;34m=\u001b[0m \u001b[0mself\u001b[0m\u001b[0;34m.\u001b[0m\u001b[0mobj\u001b[0m\u001b[0;34m.\u001b[0m\u001b[0m_get_axis_name\u001b[0m\u001b[0;34m(\u001b[0m\u001b[0maxis\u001b[0m\u001b[0;34m)\u001b[0m\u001b[0;34m\u001b[0m\u001b[0;34m\u001b[0m\u001b[0m\n\u001b[0;32m-> 1298\u001b[0;31m                 \u001b[0;32mraise\u001b[0m \u001b[0mKeyError\u001b[0m\u001b[0;34m(\u001b[0m\u001b[0;34mf\"None of [{key}] are in the [{axis_name}]\"\u001b[0m\u001b[0;34m)\u001b[0m\u001b[0;34m\u001b[0m\u001b[0;34m\u001b[0m\u001b[0m\n\u001b[0m\u001b[1;32m   1299\u001b[0m \u001b[0;34m\u001b[0m\u001b[0m\n\u001b[1;32m   1300\u001b[0m             \u001b[0;31m# We (temporarily) allow for some missing keys with .loc, except in\u001b[0m\u001b[0;34m\u001b[0m\u001b[0;34m\u001b[0m\u001b[0;34m\u001b[0m\u001b[0m\n",
      "\u001b[0;31mKeyError\u001b[0m: \"None of [Index(['entidad', 'ene', 'feb', 'mar', 'abr', 'may', 'jun', 'jul', 'ago',\\n       'sep', 'oct', 'nov', 'dic', 'anual'],\\n      dtype='object')] are in the [columns]\""
     ]
    }
   ],
   "metadata": {}
  },
  {
   "cell_type": "markdown",
   "source": [
    "Los datos de los años 2013 a 2018 no estan disponibles de manera directa, ya que se presentan en un formato de imagen. Antes de continuar analizaremos los datos de los años que se cuentan y si dan indicios de buenos anális se hará el scrapper para obtener los datos restantes."
   ],
   "metadata": {}
  },
  {
   "cell_type": "markdown",
   "source": [],
   "metadata": {}
  }
 ],
 "metadata": {
  "orig_nbformat": 4,
  "language_info": {
   "name": "python"
  }
 },
 "nbformat": 4,
 "nbformat_minor": 2
}