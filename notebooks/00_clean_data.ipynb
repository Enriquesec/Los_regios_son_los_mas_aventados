{
 "cells": [
  {
   "cell_type": "code",
   "execution_count": 1,
   "source": [
    "def quitar_acentos(s):\n",
    "    replacements = (\n",
    "        (\"á\", \"a\"),\n",
    "        (\"é\", \"e\"),\n",
    "        (\"í\", \"i\"),\n",
    "        (\"ó\", \"o\"),\n",
    "        (\"ú\", \"u\"),\n",
    "    )\n",
    "    for a, b in replacements:\n",
    "        s = s.replace(a, b).replace(a.upper(), b.upper())\n",
    "    return s\n",
    "\n",
    "def reset_name_column(df):\n",
    "    '''\n",
    "    reset_name_column: esta funcion da formato a los nombres de las columnas. Convierte los nombres a minusculas,\n",
    "    reemplaza espacio por guión bajo y elimina caracteres especiales.\n",
    "\n",
    "    arg:\n",
    "        df: dataframe a renombrar\n",
    "    return:\n",
    "        df: dataframe renombrado.\n",
    "    '''\n",
    "    cols = df.columns\n",
    "    cols_new = []\n",
    "    for i in cols:\n",
    "        i.lower()\\\n",
    "            .replace(\" \", \"_\")\\\n",
    "            .replace(\"(\", \"\")\\\n",
    "            .replace(\")\", \"\")\n",
    "        cols_new.append(i)\n",
    "    df.columns = cols_new\n",
    "    return df \n"
   ],
   "outputs": [],
   "metadata": {}
  },
  {
   "cell_type": "code",
   "execution_count": 2,
   "source": [
    "# import utilitys # error con las funciones auxiliares.\n",
    "import pandas as pd\n",
    "import glob, os, zipfile\n",
    "import numpy as np"
   ],
   "outputs": [],
   "metadata": {}
  },
  {
   "cell_type": "markdown",
   "source": [
    "# Accidentes automovilisticos"
   ],
   "metadata": {}
  },
  {
   "cell_type": "markdown",
   "source": [
    "## Descargamos los datos.\n",
    "Se utilizan los datos oficiales de la página de INEGI."
   ],
   "metadata": {}
  },
  {
   "cell_type": "code",
   "execution_count": null,
   "source": [
    "!wget --no-check-certificate \\\n",
    "    https://storage.googleapis.com/laurencemoroney-blog.appspot.com/horse-or-human.zip \\\n",
    "    -O /tmp/horse-or-human.zip"
   ],
   "outputs": [],
   "metadata": {}
  },
  {
   "cell_type": "code",
   "execution_count": 3,
   "source": [
    "# descomprimos los datos del zip\n",
    "local_zip = \"../data/atus_anual_csv.zip\"\n",
    "zip_ref = zipfile.ZipFile(local_zip, \"r\")\n",
    "zip_ref.extractall(\"../data/raw/accidentes/\")"
   ],
   "outputs": [],
   "metadata": {}
  },
  {
   "cell_type": "markdown",
   "source": [
    "## Concatenamos los datos y guardamos un solo archivo"
   ],
   "metadata": {}
  },
  {
   "cell_type": "code",
   "execution_count": 5,
   "source": [
    "# juntamos todos los accidentes en uno solo archivo.\n",
    "# get data file names\n",
    "path =r'../data/raw/accidentes/conjunto_de_datos/'\n",
    "filenames = glob.glob(path + \"/*.csv\")\n",
    "dfs = []\n",
    "\n",
    "# columnas que nos interesan. \n",
    "col_analisis=['id_entidad', 'id_municipio', 'anio', 'mes', 'id_hora',\n",
    "       'id_minuto', 'id_dia', 'diasemana', 'tipaccid',\n",
    "        'causaacci', 'caparod', 'sexo', 'aliento',\n",
    "       'cinturon', 'id_edad', \"clasacc\"]\n",
    "\n",
    "for filename in filenames:\n",
    "    df_year=pd.read_csv(filename, index_col=False)\n",
    "    df_year.columns = [item.lower() for item in df_year.columns.to_list()]\n",
    "    dfs.append(df_year[col_analisis])\n",
    "    print(filename)\n",
    "\n",
    "\n",
    "# Concatenate all data into one DataFrame\n",
    "big_frame = pd.concat(dfs, ignore_index=True)\n",
    "big_frame.to_csv(\"../data/raw/accidentes/accidentes_1997_2019.csv\", index=False)"
   ],
   "outputs": [
    {
     "output_type": "stream",
     "name": "stdout",
     "text": [
      "../data/raw/accidentes/conjunto_de_datos/atus_anual_1997.csv\n",
      "../data/raw/accidentes/conjunto_de_datos/atus_anual_2005.csv\n",
      "../data/raw/accidentes/conjunto_de_datos/atus_anual_2000.csv\n",
      "../data/raw/accidentes/conjunto_de_datos/atus_anual_1998.csv\n",
      "../data/raw/accidentes/conjunto_de_datos/atus_anual_2002.csv\n",
      "../data/raw/accidentes/conjunto_de_datos/atus_anual_2003.csv\n",
      "../data/raw/accidentes/conjunto_de_datos/atus_anual_2019.csv\n",
      "../data/raw/accidentes/conjunto_de_datos/atus_anual_2007.csv\n",
      "../data/raw/accidentes/conjunto_de_datos/atus_anual_2013.csv\n",
      "../data/raw/accidentes/conjunto_de_datos/atus_anual_2017.csv\n",
      "../data/raw/accidentes/conjunto_de_datos/atus_anual_2016.csv\n",
      "../data/raw/accidentes/conjunto_de_datos/atus_anual_2006.csv\n",
      "../data/raw/accidentes/conjunto_de_datos/atus_anual_2012.csv\n",
      "../data/raw/accidentes/conjunto_de_datos/atus_anual_1999.csv\n",
      "../data/raw/accidentes/conjunto_de_datos/atus_anual_2008.csv\n",
      "../data/raw/accidentes/conjunto_de_datos/atus_anual_2001.csv\n",
      "../data/raw/accidentes/conjunto_de_datos/atus_anual_2009.csv\n",
      "../data/raw/accidentes/conjunto_de_datos/atus_anual_2014.csv\n",
      "../data/raw/accidentes/conjunto_de_datos/atus_anual_2010.csv\n",
      "../data/raw/accidentes/conjunto_de_datos/atus_anual_2015.csv\n",
      "../data/raw/accidentes/conjunto_de_datos/atus_anual_2018.csv\n",
      "../data/raw/accidentes/conjunto_de_datos/atus_anual_2004.csv\n",
      "../data/raw/accidentes/conjunto_de_datos/atus_anual_2011.csv\n"
     ]
    }
   ],
   "metadata": {}
  },
  {
   "cell_type": "markdown",
   "source": [
    "## Renombramos columnas, tratamos los valores nulos y transformamos el tipo de las columnas "
   ],
   "metadata": {}
  },
  {
   "cell_type": "code",
   "execution_count": 2,
   "source": [
    "accidentes_mexico = pd.read_csv(\"../data/raw/accidentes/accidentes_1997_2019.csv\")"
   ],
   "outputs": [],
   "metadata": {}
  },
  {
   "cell_type": "code",
   "execution_count": 3,
   "source": [
    "accidentes_mexico.shape"
   ],
   "outputs": [
    {
     "output_type": "execute_result",
     "data": {
      "text/plain": [
       "(8876380, 16)"
      ]
     },
     "metadata": {},
     "execution_count": 3
    }
   ],
   "metadata": {}
  },
  {
   "cell_type": "code",
   "execution_count": 4,
   "source": [
    "accidentes_mexico.head()"
   ],
   "outputs": [
    {
     "output_type": "execute_result",
     "data": {
      "text/plain": [
       "   id_entidad  id_municipio  anio  mes  id_hora  id_minuto  id_dia  diasemana  \\\n",
       "0           1           1.0  1997    1       20          0       7     Martes   \n",
       "1           1           1.0  1997    1       20          0      19    Domingo   \n",
       "2           1           1.0  1997    1       20          0      20      Lunes   \n",
       "3           1           1.0  1997    1       20          5      22  Miércoles   \n",
       "4           1           1.0  1997    1       20         15      25     Sábado   \n",
       "\n",
       "                          tipaccid           causaacci      caparod    sexo  \\\n",
       "0  Colisión con vehículo automotor           Conductor  Pavimentada  Hombre   \n",
       "1  Colisión con vehículo automotor           Conductor  Pavimentada  Hombre   \n",
       "2  Colisión con vehículo automotor           Conductor  Pavimentada  Hombre   \n",
       "3  Colisión con vehículo automotor  Falla del vehículo  Pavimentada  Hombre   \n",
       "4  Colisión con vehículo automotor           Conductor  Pavimentada  Hombre   \n",
       "\n",
       "     aliento   cinturon  id_edad     clasacc  \n",
       "0  Se ignora  Se ignora       18  Sólo daños  \n",
       "1         No  Se ignora       19    No fatal  \n",
       "2         No  Se ignora       43  Sólo daños  \n",
       "3         No  Se ignora       26    No fatal  \n",
       "4         No  Se ignora       28  Sólo daños  "
      ],
      "text/html": [
       "<div>\n",
       "<style scoped>\n",
       "    .dataframe tbody tr th:only-of-type {\n",
       "        vertical-align: middle;\n",
       "    }\n",
       "\n",
       "    .dataframe tbody tr th {\n",
       "        vertical-align: top;\n",
       "    }\n",
       "\n",
       "    .dataframe thead th {\n",
       "        text-align: right;\n",
       "    }\n",
       "</style>\n",
       "<table border=\"1\" class=\"dataframe\">\n",
       "  <thead>\n",
       "    <tr style=\"text-align: right;\">\n",
       "      <th></th>\n",
       "      <th>id_entidad</th>\n",
       "      <th>id_municipio</th>\n",
       "      <th>anio</th>\n",
       "      <th>mes</th>\n",
       "      <th>id_hora</th>\n",
       "      <th>id_minuto</th>\n",
       "      <th>id_dia</th>\n",
       "      <th>diasemana</th>\n",
       "      <th>tipaccid</th>\n",
       "      <th>causaacci</th>\n",
       "      <th>caparod</th>\n",
       "      <th>sexo</th>\n",
       "      <th>aliento</th>\n",
       "      <th>cinturon</th>\n",
       "      <th>id_edad</th>\n",
       "      <th>clasacc</th>\n",
       "    </tr>\n",
       "  </thead>\n",
       "  <tbody>\n",
       "    <tr>\n",
       "      <th>0</th>\n",
       "      <td>1</td>\n",
       "      <td>1.0</td>\n",
       "      <td>1997</td>\n",
       "      <td>1</td>\n",
       "      <td>20</td>\n",
       "      <td>0</td>\n",
       "      <td>7</td>\n",
       "      <td>Martes</td>\n",
       "      <td>Colisión con vehículo automotor</td>\n",
       "      <td>Conductor</td>\n",
       "      <td>Pavimentada</td>\n",
       "      <td>Hombre</td>\n",
       "      <td>Se ignora</td>\n",
       "      <td>Se ignora</td>\n",
       "      <td>18</td>\n",
       "      <td>Sólo daños</td>\n",
       "    </tr>\n",
       "    <tr>\n",
       "      <th>1</th>\n",
       "      <td>1</td>\n",
       "      <td>1.0</td>\n",
       "      <td>1997</td>\n",
       "      <td>1</td>\n",
       "      <td>20</td>\n",
       "      <td>0</td>\n",
       "      <td>19</td>\n",
       "      <td>Domingo</td>\n",
       "      <td>Colisión con vehículo automotor</td>\n",
       "      <td>Conductor</td>\n",
       "      <td>Pavimentada</td>\n",
       "      <td>Hombre</td>\n",
       "      <td>No</td>\n",
       "      <td>Se ignora</td>\n",
       "      <td>19</td>\n",
       "      <td>No fatal</td>\n",
       "    </tr>\n",
       "    <tr>\n",
       "      <th>2</th>\n",
       "      <td>1</td>\n",
       "      <td>1.0</td>\n",
       "      <td>1997</td>\n",
       "      <td>1</td>\n",
       "      <td>20</td>\n",
       "      <td>0</td>\n",
       "      <td>20</td>\n",
       "      <td>Lunes</td>\n",
       "      <td>Colisión con vehículo automotor</td>\n",
       "      <td>Conductor</td>\n",
       "      <td>Pavimentada</td>\n",
       "      <td>Hombre</td>\n",
       "      <td>No</td>\n",
       "      <td>Se ignora</td>\n",
       "      <td>43</td>\n",
       "      <td>Sólo daños</td>\n",
       "    </tr>\n",
       "    <tr>\n",
       "      <th>3</th>\n",
       "      <td>1</td>\n",
       "      <td>1.0</td>\n",
       "      <td>1997</td>\n",
       "      <td>1</td>\n",
       "      <td>20</td>\n",
       "      <td>5</td>\n",
       "      <td>22</td>\n",
       "      <td>Miércoles</td>\n",
       "      <td>Colisión con vehículo automotor</td>\n",
       "      <td>Falla del vehículo</td>\n",
       "      <td>Pavimentada</td>\n",
       "      <td>Hombre</td>\n",
       "      <td>No</td>\n",
       "      <td>Se ignora</td>\n",
       "      <td>26</td>\n",
       "      <td>No fatal</td>\n",
       "    </tr>\n",
       "    <tr>\n",
       "      <th>4</th>\n",
       "      <td>1</td>\n",
       "      <td>1.0</td>\n",
       "      <td>1997</td>\n",
       "      <td>1</td>\n",
       "      <td>20</td>\n",
       "      <td>15</td>\n",
       "      <td>25</td>\n",
       "      <td>Sábado</td>\n",
       "      <td>Colisión con vehículo automotor</td>\n",
       "      <td>Conductor</td>\n",
       "      <td>Pavimentada</td>\n",
       "      <td>Hombre</td>\n",
       "      <td>No</td>\n",
       "      <td>Se ignora</td>\n",
       "      <td>28</td>\n",
       "      <td>Sólo daños</td>\n",
       "    </tr>\n",
       "  </tbody>\n",
       "</table>\n",
       "</div>"
      ]
     },
     "metadata": {},
     "execution_count": 4
    }
   ],
   "metadata": {}
  },
  {
   "cell_type": "code",
   "execution_count": 5,
   "source": [
    "accidentes_mexico.info()"
   ],
   "outputs": [
    {
     "output_type": "stream",
     "name": "stdout",
     "text": [
      "<class 'pandas.core.frame.DataFrame'>\n",
      "RangeIndex: 8876380 entries, 0 to 8876379\n",
      "Data columns (total 16 columns):\n",
      " #   Column        Dtype  \n",
      "---  ------        -----  \n",
      " 0   id_entidad    int64  \n",
      " 1   id_municipio  float64\n",
      " 2   anio          int64  \n",
      " 3   mes           int64  \n",
      " 4   id_hora       int64  \n",
      " 5   id_minuto     int64  \n",
      " 6   id_dia        int64  \n",
      " 7   diasemana     object \n",
      " 8   tipaccid      object \n",
      " 9   causaacci     object \n",
      " 10  caparod       object \n",
      " 11  sexo          object \n",
      " 12  aliento       object \n",
      " 13  cinturon      object \n",
      " 14  id_edad       int64  \n",
      " 15  clasacc       object \n",
      "dtypes: float64(1), int64(7), object(8)\n",
      "memory usage: 1.1+ GB\n"
     ]
    }
   ],
   "metadata": {}
  },
  {
   "cell_type": "markdown",
   "source": [
    "### Agruegamos las entidades y municipios de los catalogos"
   ],
   "metadata": {}
  },
  {
   "cell_type": "code",
   "execution_count": 8,
   "source": [
    "print(accidentes_mexico.id_entidad.unique())\n",
    "\n",
    "# concatenamos con los catalogos de entidad\n",
    "cat_estado = pd.read_csv(\"../data/raw/accidentes/catalogos/tc_entidad.csv\", index_col=False)\n",
    "cat_estado.columns = [item.lower() for item in cat_estado.columns.to_list()]\n",
    "cat_estado[\"nom_entidad\"] = cat_estado[\"nom_entidad\"].apply(lambda x: quitar_acentos(x)) \n",
    "\n",
    "print(accidentes_mexico.shape)\n",
    "accidentes_mexico=pd.merge(accidentes_mexico, cat_estado, on=\"id_entidad\", how=\"left\")\n",
    "print(accidentes_mexico.shape)"
   ],
   "outputs": [
    {
     "output_type": "stream",
     "name": "stdout",
     "text": [
      "[ 1  2  3  4  5  6  7  8  9 10 11 12 13 14 15 16 17 18 19 20 21 22 23 24\n",
      " 25 26 27 28 29 30 31 32]\n",
      "(8876380, 16)\n",
      "(8876380, 17)\n"
     ]
    }
   ],
   "metadata": {}
  },
  {
   "cell_type": "code",
   "execution_count": 9,
   "source": [
    "accidentes_mexico.head()"
   ],
   "outputs": [
    {
     "output_type": "execute_result",
     "data": {
      "text/plain": [
       "   id_entidad  id_municipio  anio  mes  id_hora  id_minuto  id_dia  diasemana  \\\n",
       "0           1           1.0  1997    1       20          0       7     Martes   \n",
       "1           1           1.0  1997    1       20          0      19    Domingo   \n",
       "2           1           1.0  1997    1       20          0      20      Lunes   \n",
       "3           1           1.0  1997    1       20          5      22  Miércoles   \n",
       "4           1           1.0  1997    1       20         15      25     Sábado   \n",
       "\n",
       "                          tipaccid           causaacci      caparod    sexo  \\\n",
       "0  Colisión con vehículo automotor           Conductor  Pavimentada  Hombre   \n",
       "1  Colisión con vehículo automotor           Conductor  Pavimentada  Hombre   \n",
       "2  Colisión con vehículo automotor           Conductor  Pavimentada  Hombre   \n",
       "3  Colisión con vehículo automotor  Falla del vehículo  Pavimentada  Hombre   \n",
       "4  Colisión con vehículo automotor           Conductor  Pavimentada  Hombre   \n",
       "\n",
       "     aliento   cinturon  id_edad     clasacc     nom_entidad  \n",
       "0  Se ignora  Se ignora       18  Sólo daños  Aguascalientes  \n",
       "1         No  Se ignora       19    No fatal  Aguascalientes  \n",
       "2         No  Se ignora       43  Sólo daños  Aguascalientes  \n",
       "3         No  Se ignora       26    No fatal  Aguascalientes  \n",
       "4         No  Se ignora       28  Sólo daños  Aguascalientes  "
      ],
      "text/html": [
       "<div>\n",
       "<style scoped>\n",
       "    .dataframe tbody tr th:only-of-type {\n",
       "        vertical-align: middle;\n",
       "    }\n",
       "\n",
       "    .dataframe tbody tr th {\n",
       "        vertical-align: top;\n",
       "    }\n",
       "\n",
       "    .dataframe thead th {\n",
       "        text-align: right;\n",
       "    }\n",
       "</style>\n",
       "<table border=\"1\" class=\"dataframe\">\n",
       "  <thead>\n",
       "    <tr style=\"text-align: right;\">\n",
       "      <th></th>\n",
       "      <th>id_entidad</th>\n",
       "      <th>id_municipio</th>\n",
       "      <th>anio</th>\n",
       "      <th>mes</th>\n",
       "      <th>id_hora</th>\n",
       "      <th>id_minuto</th>\n",
       "      <th>id_dia</th>\n",
       "      <th>diasemana</th>\n",
       "      <th>tipaccid</th>\n",
       "      <th>causaacci</th>\n",
       "      <th>caparod</th>\n",
       "      <th>sexo</th>\n",
       "      <th>aliento</th>\n",
       "      <th>cinturon</th>\n",
       "      <th>id_edad</th>\n",
       "      <th>clasacc</th>\n",
       "      <th>nom_entidad</th>\n",
       "    </tr>\n",
       "  </thead>\n",
       "  <tbody>\n",
       "    <tr>\n",
       "      <th>0</th>\n",
       "      <td>1</td>\n",
       "      <td>1.0</td>\n",
       "      <td>1997</td>\n",
       "      <td>1</td>\n",
       "      <td>20</td>\n",
       "      <td>0</td>\n",
       "      <td>7</td>\n",
       "      <td>Martes</td>\n",
       "      <td>Colisión con vehículo automotor</td>\n",
       "      <td>Conductor</td>\n",
       "      <td>Pavimentada</td>\n",
       "      <td>Hombre</td>\n",
       "      <td>Se ignora</td>\n",
       "      <td>Se ignora</td>\n",
       "      <td>18</td>\n",
       "      <td>Sólo daños</td>\n",
       "      <td>Aguascalientes</td>\n",
       "    </tr>\n",
       "    <tr>\n",
       "      <th>1</th>\n",
       "      <td>1</td>\n",
       "      <td>1.0</td>\n",
       "      <td>1997</td>\n",
       "      <td>1</td>\n",
       "      <td>20</td>\n",
       "      <td>0</td>\n",
       "      <td>19</td>\n",
       "      <td>Domingo</td>\n",
       "      <td>Colisión con vehículo automotor</td>\n",
       "      <td>Conductor</td>\n",
       "      <td>Pavimentada</td>\n",
       "      <td>Hombre</td>\n",
       "      <td>No</td>\n",
       "      <td>Se ignora</td>\n",
       "      <td>19</td>\n",
       "      <td>No fatal</td>\n",
       "      <td>Aguascalientes</td>\n",
       "    </tr>\n",
       "    <tr>\n",
       "      <th>2</th>\n",
       "      <td>1</td>\n",
       "      <td>1.0</td>\n",
       "      <td>1997</td>\n",
       "      <td>1</td>\n",
       "      <td>20</td>\n",
       "      <td>0</td>\n",
       "      <td>20</td>\n",
       "      <td>Lunes</td>\n",
       "      <td>Colisión con vehículo automotor</td>\n",
       "      <td>Conductor</td>\n",
       "      <td>Pavimentada</td>\n",
       "      <td>Hombre</td>\n",
       "      <td>No</td>\n",
       "      <td>Se ignora</td>\n",
       "      <td>43</td>\n",
       "      <td>Sólo daños</td>\n",
       "      <td>Aguascalientes</td>\n",
       "    </tr>\n",
       "    <tr>\n",
       "      <th>3</th>\n",
       "      <td>1</td>\n",
       "      <td>1.0</td>\n",
       "      <td>1997</td>\n",
       "      <td>1</td>\n",
       "      <td>20</td>\n",
       "      <td>5</td>\n",
       "      <td>22</td>\n",
       "      <td>Miércoles</td>\n",
       "      <td>Colisión con vehículo automotor</td>\n",
       "      <td>Falla del vehículo</td>\n",
       "      <td>Pavimentada</td>\n",
       "      <td>Hombre</td>\n",
       "      <td>No</td>\n",
       "      <td>Se ignora</td>\n",
       "      <td>26</td>\n",
       "      <td>No fatal</td>\n",
       "      <td>Aguascalientes</td>\n",
       "    </tr>\n",
       "    <tr>\n",
       "      <th>4</th>\n",
       "      <td>1</td>\n",
       "      <td>1.0</td>\n",
       "      <td>1997</td>\n",
       "      <td>1</td>\n",
       "      <td>20</td>\n",
       "      <td>15</td>\n",
       "      <td>25</td>\n",
       "      <td>Sábado</td>\n",
       "      <td>Colisión con vehículo automotor</td>\n",
       "      <td>Conductor</td>\n",
       "      <td>Pavimentada</td>\n",
       "      <td>Hombre</td>\n",
       "      <td>No</td>\n",
       "      <td>Se ignora</td>\n",
       "      <td>28</td>\n",
       "      <td>Sólo daños</td>\n",
       "      <td>Aguascalientes</td>\n",
       "    </tr>\n",
       "  </tbody>\n",
       "</table>\n",
       "</div>"
      ]
     },
     "metadata": {},
     "execution_count": 9
    }
   ],
   "metadata": {}
  },
  {
   "cell_type": "code",
   "execution_count": 11,
   "source": [
    "print(len(accidentes_mexico.id_municipio.unique()))\n",
    "\n",
    "# concatenamos con los catalogos de municipio\n",
    "cat_muni=pd.read_csv(\"../data/raw/accidentes/catalogos/tc_municipio.csv\", index_col=False)\n",
    "cat_muni.columns = [item.lower() for item in cat_muni.columns.to_list()]\n",
    "\n",
    "print(accidentes_mexico.shape)\n",
    "accidentes_mexico=pd.merge(accidentes_mexico, cat_muni, on=[\"id_entidad\",\"id_municipio\"], how=\"left\")\n",
    "print(accidentes_mexico.shape)"
   ],
   "outputs": [
    {
     "output_type": "stream",
     "name": "stdout",
     "text": [
      "571\n",
      "(8876380, 17)\n",
      "(8876380, 18)\n"
     ]
    }
   ],
   "metadata": {}
  },
  {
   "cell_type": "code",
   "execution_count": 13,
   "source": [
    "accidentes_mexico.head()"
   ],
   "outputs": [
    {
     "output_type": "execute_result",
     "data": {
      "text/plain": [
       "   id_entidad  id_municipio  anio  mes  id_hora  id_minuto  id_dia  diasemana  \\\n",
       "0           1           1.0  1997    1       20          0       7     Martes   \n",
       "1           1           1.0  1997    1       20          0      19    Domingo   \n",
       "2           1           1.0  1997    1       20          0      20      Lunes   \n",
       "3           1           1.0  1997    1       20          5      22  Miércoles   \n",
       "4           1           1.0  1997    1       20         15      25     Sábado   \n",
       "\n",
       "                          tipaccid           causaacci      caparod    sexo  \\\n",
       "0  Colisión con vehículo automotor           Conductor  Pavimentada  Hombre   \n",
       "1  Colisión con vehículo automotor           Conductor  Pavimentada  Hombre   \n",
       "2  Colisión con vehículo automotor           Conductor  Pavimentada  Hombre   \n",
       "3  Colisión con vehículo automotor  Falla del vehículo  Pavimentada  Hombre   \n",
       "4  Colisión con vehículo automotor           Conductor  Pavimentada  Hombre   \n",
       "\n",
       "     aliento   cinturon  id_edad     clasacc     nom_entidad   nom_municipio  \n",
       "0  Se ignora  Se ignora       18  Sólo daños  Aguascalientes  Aguascalientes  \n",
       "1         No  Se ignora       19    No fatal  Aguascalientes  Aguascalientes  \n",
       "2         No  Se ignora       43  Sólo daños  Aguascalientes  Aguascalientes  \n",
       "3         No  Se ignora       26    No fatal  Aguascalientes  Aguascalientes  \n",
       "4         No  Se ignora       28  Sólo daños  Aguascalientes  Aguascalientes  "
      ],
      "text/html": [
       "<div>\n",
       "<style scoped>\n",
       "    .dataframe tbody tr th:only-of-type {\n",
       "        vertical-align: middle;\n",
       "    }\n",
       "\n",
       "    .dataframe tbody tr th {\n",
       "        vertical-align: top;\n",
       "    }\n",
       "\n",
       "    .dataframe thead th {\n",
       "        text-align: right;\n",
       "    }\n",
       "</style>\n",
       "<table border=\"1\" class=\"dataframe\">\n",
       "  <thead>\n",
       "    <tr style=\"text-align: right;\">\n",
       "      <th></th>\n",
       "      <th>id_entidad</th>\n",
       "      <th>id_municipio</th>\n",
       "      <th>anio</th>\n",
       "      <th>mes</th>\n",
       "      <th>id_hora</th>\n",
       "      <th>id_minuto</th>\n",
       "      <th>id_dia</th>\n",
       "      <th>diasemana</th>\n",
       "      <th>tipaccid</th>\n",
       "      <th>causaacci</th>\n",
       "      <th>caparod</th>\n",
       "      <th>sexo</th>\n",
       "      <th>aliento</th>\n",
       "      <th>cinturon</th>\n",
       "      <th>id_edad</th>\n",
       "      <th>clasacc</th>\n",
       "      <th>nom_entidad</th>\n",
       "      <th>nom_municipio</th>\n",
       "    </tr>\n",
       "  </thead>\n",
       "  <tbody>\n",
       "    <tr>\n",
       "      <th>0</th>\n",
       "      <td>1</td>\n",
       "      <td>1.0</td>\n",
       "      <td>1997</td>\n",
       "      <td>1</td>\n",
       "      <td>20</td>\n",
       "      <td>0</td>\n",
       "      <td>7</td>\n",
       "      <td>Martes</td>\n",
       "      <td>Colisión con vehículo automotor</td>\n",
       "      <td>Conductor</td>\n",
       "      <td>Pavimentada</td>\n",
       "      <td>Hombre</td>\n",
       "      <td>Se ignora</td>\n",
       "      <td>Se ignora</td>\n",
       "      <td>18</td>\n",
       "      <td>Sólo daños</td>\n",
       "      <td>Aguascalientes</td>\n",
       "      <td>Aguascalientes</td>\n",
       "    </tr>\n",
       "    <tr>\n",
       "      <th>1</th>\n",
       "      <td>1</td>\n",
       "      <td>1.0</td>\n",
       "      <td>1997</td>\n",
       "      <td>1</td>\n",
       "      <td>20</td>\n",
       "      <td>0</td>\n",
       "      <td>19</td>\n",
       "      <td>Domingo</td>\n",
       "      <td>Colisión con vehículo automotor</td>\n",
       "      <td>Conductor</td>\n",
       "      <td>Pavimentada</td>\n",
       "      <td>Hombre</td>\n",
       "      <td>No</td>\n",
       "      <td>Se ignora</td>\n",
       "      <td>19</td>\n",
       "      <td>No fatal</td>\n",
       "      <td>Aguascalientes</td>\n",
       "      <td>Aguascalientes</td>\n",
       "    </tr>\n",
       "    <tr>\n",
       "      <th>2</th>\n",
       "      <td>1</td>\n",
       "      <td>1.0</td>\n",
       "      <td>1997</td>\n",
       "      <td>1</td>\n",
       "      <td>20</td>\n",
       "      <td>0</td>\n",
       "      <td>20</td>\n",
       "      <td>Lunes</td>\n",
       "      <td>Colisión con vehículo automotor</td>\n",
       "      <td>Conductor</td>\n",
       "      <td>Pavimentada</td>\n",
       "      <td>Hombre</td>\n",
       "      <td>No</td>\n",
       "      <td>Se ignora</td>\n",
       "      <td>43</td>\n",
       "      <td>Sólo daños</td>\n",
       "      <td>Aguascalientes</td>\n",
       "      <td>Aguascalientes</td>\n",
       "    </tr>\n",
       "    <tr>\n",
       "      <th>3</th>\n",
       "      <td>1</td>\n",
       "      <td>1.0</td>\n",
       "      <td>1997</td>\n",
       "      <td>1</td>\n",
       "      <td>20</td>\n",
       "      <td>5</td>\n",
       "      <td>22</td>\n",
       "      <td>Miércoles</td>\n",
       "      <td>Colisión con vehículo automotor</td>\n",
       "      <td>Falla del vehículo</td>\n",
       "      <td>Pavimentada</td>\n",
       "      <td>Hombre</td>\n",
       "      <td>No</td>\n",
       "      <td>Se ignora</td>\n",
       "      <td>26</td>\n",
       "      <td>No fatal</td>\n",
       "      <td>Aguascalientes</td>\n",
       "      <td>Aguascalientes</td>\n",
       "    </tr>\n",
       "    <tr>\n",
       "      <th>4</th>\n",
       "      <td>1</td>\n",
       "      <td>1.0</td>\n",
       "      <td>1997</td>\n",
       "      <td>1</td>\n",
       "      <td>20</td>\n",
       "      <td>15</td>\n",
       "      <td>25</td>\n",
       "      <td>Sábado</td>\n",
       "      <td>Colisión con vehículo automotor</td>\n",
       "      <td>Conductor</td>\n",
       "      <td>Pavimentada</td>\n",
       "      <td>Hombre</td>\n",
       "      <td>No</td>\n",
       "      <td>Se ignora</td>\n",
       "      <td>28</td>\n",
       "      <td>Sólo daños</td>\n",
       "      <td>Aguascalientes</td>\n",
       "      <td>Aguascalientes</td>\n",
       "    </tr>\n",
       "  </tbody>\n",
       "</table>\n",
       "</div>"
      ]
     },
     "metadata": {},
     "execution_count": 13
    }
   ],
   "metadata": {}
  },
  {
   "cell_type": "markdown",
   "source": [
    "### Valores nulos en las columnas: id_dia, año, mes, diasemana, "
   ],
   "metadata": {}
  },
  {
   "cell_type": "code",
   "execution_count": 14,
   "source": [
    "# imprimimos los años\n",
    "accidentes_mexico.anio.unique()"
   ],
   "outputs": [
    {
     "output_type": "execute_result",
     "data": {
      "text/plain": [
       "array([1997, 2005, 2000, 1998, 2002, 2003, 2019, 2007, 2013, 2017, 2016,\n",
       "       2006, 2012, 1999, 2008, 2001, 2009, 2014, 2010, 2015, 2018, 2004,\n",
       "       2011])"
      ]
     },
     "metadata": {},
     "execution_count": 14
    }
   ],
   "metadata": {}
  },
  {
   "cell_type": "code",
   "execution_count": 15,
   "source": [
    "accidentes_mexico.mes.unique()"
   ],
   "outputs": [
    {
     "output_type": "execute_result",
     "data": {
      "text/plain": [
       "array([ 1,  2,  3,  4,  5,  6,  7,  8,  9, 10, 11, 12])"
      ]
     },
     "metadata": {},
     "execution_count": 15
    }
   ],
   "metadata": {}
  },
  {
   "cell_type": "code",
   "execution_count": 16,
   "source": [
    "accidentes_mexico.id_dia.unique()"
   ],
   "outputs": [
    {
     "output_type": "execute_result",
     "data": {
      "text/plain": [
       "array([ 7, 19, 20, 22, 25, 14, 17, 21, 12,  8,  6, 27, 15, 18,  5, 16, 29,\n",
       "       11,  9,  3, 13, 10, 30, 24, 26,  2, 28, 23,  1,  4, 31, 32,  0])"
      ]
     },
     "metadata": {},
     "execution_count": 16
    }
   ],
   "metadata": {}
  },
  {
   "cell_type": "markdown",
   "source": [
    "#### Analicemos la existencia de ceros en los días\n"
   ],
   "metadata": {}
  },
  {
   "cell_type": "code",
   "execution_count": 17,
   "source": [
    "accidentes_dia_cero = accidentes_mexico[accidentes_mexico.id_dia==0]"
   ],
   "outputs": [],
   "metadata": {}
  },
  {
   "cell_type": "code",
   "execution_count": 20,
   "source": [
    "accidentes_dia_cero.shape"
   ],
   "outputs": [
    {
     "output_type": "execute_result",
     "data": {
      "text/plain": [
       "(15210, 18)"
      ]
     },
     "metadata": {},
     "execution_count": 20
    }
   ],
   "metadata": {}
  },
  {
   "cell_type": "code",
   "execution_count": 18,
   "source": [
    "accidentes_dia_cero.anio.unique() # todos estan en el año 2018"
   ],
   "outputs": [
    {
     "output_type": "execute_result",
     "data": {
      "text/plain": [
       "array([2018])"
      ]
     },
     "metadata": {},
     "execution_count": 18
    }
   ],
   "metadata": {}
  },
  {
   "cell_type": "markdown",
   "source": [
    "Observamos que los valores nulos provienen del año 2018."
   ],
   "metadata": {}
  },
  {
   "cell_type": "code",
   "execution_count": 17,
   "source": [
    "accidentes_dia_cero.nom_entidad.value_counts()"
   ],
   "outputs": [
    {
     "output_type": "execute_result",
     "data": {
      "text/plain": [
       "Oaxaca                             6361\n",
       "Puebla                             2207\n",
       "Veracruz de Ignacio de la Llave    1584\n",
       "Chiapas                            1128\n",
       "Hidalgo                             865\n",
       "San Luis Potosi                     434\n",
       "Sonora                              431\n",
       "Tlaxcala                            348\n",
       "Tamaulipas                          265\n",
       "Michoacan de Ocampo                 251\n",
       "Yucatan                             227\n",
       "Mexico                              211\n",
       "Zacatecas                           164\n",
       "Nuevo Leon                          164\n",
       "Chihuahua                           150\n",
       "Coahuila de Zaragoza                137\n",
       "Nayarit                              73\n",
       "Durango                              59\n",
       "Guanajuato                           55\n",
       "Tabasco                              25\n",
       "Queretaro                            21\n",
       "Aguascalientes                       19\n",
       "Campeche                             11\n",
       "Morelos                              11\n",
       "Sinaloa                               7\n",
       "Colima                                2\n",
       "Name: nom_entidad, dtype: int64"
      ]
     },
     "metadata": {},
     "execution_count": 17
    }
   ],
   "metadata": {}
  },
  {
   "cell_type": "markdown",
   "source": [
    " La mayoria estan en Oaxaca."
   ],
   "metadata": {}
  },
  {
   "cell_type": "code",
   "execution_count": 22,
   "source": [
    "for i in accidentes_dia_cero.columns[4:16]:\n",
    "    print(\"La columna\",i,\"tiene los valores únicos:\", accidentes_dia_cero[i].unique())"
   ],
   "outputs": [
    {
     "output_type": "stream",
     "name": "stdout",
     "text": [
      "La columna id_hora tiene los valores únicos: [0]\n",
      "La columna id_minuto tiene los valores únicos: [0]\n",
      "La columna id_dia tiene los valores únicos: [0]\n",
      "La columna diasemana tiene los valores únicos: ['Certificado cero']\n",
      "La columna tipaccid tiene los valores únicos: ['Certificado cero']\n",
      "La columna causaacci tiene los valores únicos: ['Certificado cero']\n",
      "La columna caparod tiene los valores únicos: ['Certificado cero']\n",
      "La columna sexo tiene los valores únicos: ['Certificado cero']\n",
      "La columna aliento tiene los valores únicos: ['Certificado cero']\n",
      "La columna cinturon tiene los valores únicos: ['Certificado cero']\n",
      "La columna id_edad tiene los valores únicos: [0]\n",
      "La columna clasacc tiene los valores únicos: ['Certificado cero']\n"
     ]
    }
   ],
   "metadata": {}
  },
  {
   "cell_type": "markdown",
   "source": [
    "**Observemos que no existen valores nulos en todas las demás columnas**, por lo que filtraremos estos datos."
   ],
   "metadata": {}
  },
  {
   "cell_type": "code",
   "execution_count": 24,
   "source": [
    "# Filtramos los que tenga en día 0.\n",
    "accidentes_mexico = accidentes_mexico[accidentes_mexico.id_dia!=0]\n",
    "\n",
    "# comprobamos que ya no esten \n",
    "accidentes_mexico.id_dia.unique()"
   ],
   "outputs": [
    {
     "output_type": "execute_result",
     "data": {
      "text/plain": [
       "array([ 7, 19, 20, 22, 25, 14, 17, 21, 12,  8,  6, 27, 15, 18,  5, 16, 29,\n",
       "       11,  9,  3, 13, 10, 30, 24, 26,  2, 28, 23,  1,  4, 31, 32])"
      ]
     },
     "metadata": {},
     "execution_count": 24
    }
   ],
   "metadata": {}
  },
  {
   "cell_type": "code",
   "execution_count": 25,
   "source": [
    "accidentes_mexico.diasemana.unique()"
   ],
   "outputs": [
    {
     "output_type": "execute_result",
     "data": {
      "text/plain": [
       "array(['Martes', 'Domingo', 'Lunes', 'Miércoles', 'Sábado', 'Viernes',\n",
       "       'Jueves', 'Miercoles', 'Sabado', 'lunes', 'No especificado'],\n",
       "      dtype=object)"
      ]
     },
     "metadata": {},
     "execution_count": 25
    }
   ],
   "metadata": {}
  },
  {
   "cell_type": "code",
   "execution_count": 26,
   "source": [
    "accidentes_mexico.id_edad.unique()"
   ],
   "outputs": [
    {
     "output_type": "execute_result",
     "data": {
      "text/plain": [
       "array([18, 19, 43, 26, 28, 22,  0, 25, 30, 36, 21, 53, 34, 24, 35, 33, 56,\n",
       "       31, 38, 62, 20, 47, 80, 42, 48, 46, 40, 32, 44, 39, 13, 23, 78, 29,\n",
       "       41, 63, 27, 37, 45, 16, 76, 49, 55, 50, 52, 17, 14, 65, 58, 72, 64,\n",
       "       60, 59, 67, 54, 57, 51, 93, 15, 69, 61, 66, 70, 77, 71, 68, 89, 73,\n",
       "       74, 95, 75, 87, 12, 85, 84, 82, 79, 86, 83, 88, 81, 91, 99, 92, 90,\n",
       "       98, 94, 97, 96])"
      ]
     },
     "metadata": {},
     "execution_count": 26
    }
   ],
   "metadata": {}
  },
  {
   "cell_type": "code",
   "execution_count": 28,
   "source": [
    "accidentes_mexico[accidentes_mexico.id_edad==0].shape"
   ],
   "outputs": [
    {
     "output_type": "execute_result",
     "data": {
      "text/plain": [
       "(951135, 18)"
      ]
     },
     "metadata": {},
     "execution_count": 28
    }
   ],
   "metadata": {}
  },
  {
   "cell_type": "code",
   "execution_count": 29,
   "source": [
    "accidentes_mexico[\"id_edad\"]=accidentes_mexico[\"id_edad\"].replace({0:np.nan,\n",
    "                                                                  99:np.nan})"
   ],
   "outputs": [],
   "metadata": {}
  },
  {
   "cell_type": "code",
   "execution_count": 30,
   "source": [
    "accidentes_mexico.head()"
   ],
   "outputs": [
    {
     "output_type": "execute_result",
     "data": {
      "text/plain": [
       "   id_entidad  id_municipio  anio  mes  id_hora  id_minuto  id_dia  diasemana  \\\n",
       "0           1           1.0  1997    1       20          0       7     Martes   \n",
       "1           1           1.0  1997    1       20          0      19    Domingo   \n",
       "2           1           1.0  1997    1       20          0      20      Lunes   \n",
       "3           1           1.0  1997    1       20          5      22  Miércoles   \n",
       "4           1           1.0  1997    1       20         15      25     Sábado   \n",
       "\n",
       "                          tipaccid           causaacci      caparod    sexo  \\\n",
       "0  Colisión con vehículo automotor           Conductor  Pavimentada  Hombre   \n",
       "1  Colisión con vehículo automotor           Conductor  Pavimentada  Hombre   \n",
       "2  Colisión con vehículo automotor           Conductor  Pavimentada  Hombre   \n",
       "3  Colisión con vehículo automotor  Falla del vehículo  Pavimentada  Hombre   \n",
       "4  Colisión con vehículo automotor           Conductor  Pavimentada  Hombre   \n",
       "\n",
       "     aliento   cinturon  id_edad     clasacc     nom_entidad   nom_municipio  \n",
       "0  Se ignora  Se ignora     18.0  Sólo daños  Aguascalientes  Aguascalientes  \n",
       "1         No  Se ignora     19.0    No fatal  Aguascalientes  Aguascalientes  \n",
       "2         No  Se ignora     43.0  Sólo daños  Aguascalientes  Aguascalientes  \n",
       "3         No  Se ignora     26.0    No fatal  Aguascalientes  Aguascalientes  \n",
       "4         No  Se ignora     28.0  Sólo daños  Aguascalientes  Aguascalientes  "
      ],
      "text/html": [
       "<div>\n",
       "<style scoped>\n",
       "    .dataframe tbody tr th:only-of-type {\n",
       "        vertical-align: middle;\n",
       "    }\n",
       "\n",
       "    .dataframe tbody tr th {\n",
       "        vertical-align: top;\n",
       "    }\n",
       "\n",
       "    .dataframe thead th {\n",
       "        text-align: right;\n",
       "    }\n",
       "</style>\n",
       "<table border=\"1\" class=\"dataframe\">\n",
       "  <thead>\n",
       "    <tr style=\"text-align: right;\">\n",
       "      <th></th>\n",
       "      <th>id_entidad</th>\n",
       "      <th>id_municipio</th>\n",
       "      <th>anio</th>\n",
       "      <th>mes</th>\n",
       "      <th>id_hora</th>\n",
       "      <th>id_minuto</th>\n",
       "      <th>id_dia</th>\n",
       "      <th>diasemana</th>\n",
       "      <th>tipaccid</th>\n",
       "      <th>causaacci</th>\n",
       "      <th>caparod</th>\n",
       "      <th>sexo</th>\n",
       "      <th>aliento</th>\n",
       "      <th>cinturon</th>\n",
       "      <th>id_edad</th>\n",
       "      <th>clasacc</th>\n",
       "      <th>nom_entidad</th>\n",
       "      <th>nom_municipio</th>\n",
       "    </tr>\n",
       "  </thead>\n",
       "  <tbody>\n",
       "    <tr>\n",
       "      <th>0</th>\n",
       "      <td>1</td>\n",
       "      <td>1.0</td>\n",
       "      <td>1997</td>\n",
       "      <td>1</td>\n",
       "      <td>20</td>\n",
       "      <td>0</td>\n",
       "      <td>7</td>\n",
       "      <td>Martes</td>\n",
       "      <td>Colisión con vehículo automotor</td>\n",
       "      <td>Conductor</td>\n",
       "      <td>Pavimentada</td>\n",
       "      <td>Hombre</td>\n",
       "      <td>Se ignora</td>\n",
       "      <td>Se ignora</td>\n",
       "      <td>18.0</td>\n",
       "      <td>Sólo daños</td>\n",
       "      <td>Aguascalientes</td>\n",
       "      <td>Aguascalientes</td>\n",
       "    </tr>\n",
       "    <tr>\n",
       "      <th>1</th>\n",
       "      <td>1</td>\n",
       "      <td>1.0</td>\n",
       "      <td>1997</td>\n",
       "      <td>1</td>\n",
       "      <td>20</td>\n",
       "      <td>0</td>\n",
       "      <td>19</td>\n",
       "      <td>Domingo</td>\n",
       "      <td>Colisión con vehículo automotor</td>\n",
       "      <td>Conductor</td>\n",
       "      <td>Pavimentada</td>\n",
       "      <td>Hombre</td>\n",
       "      <td>No</td>\n",
       "      <td>Se ignora</td>\n",
       "      <td>19.0</td>\n",
       "      <td>No fatal</td>\n",
       "      <td>Aguascalientes</td>\n",
       "      <td>Aguascalientes</td>\n",
       "    </tr>\n",
       "    <tr>\n",
       "      <th>2</th>\n",
       "      <td>1</td>\n",
       "      <td>1.0</td>\n",
       "      <td>1997</td>\n",
       "      <td>1</td>\n",
       "      <td>20</td>\n",
       "      <td>0</td>\n",
       "      <td>20</td>\n",
       "      <td>Lunes</td>\n",
       "      <td>Colisión con vehículo automotor</td>\n",
       "      <td>Conductor</td>\n",
       "      <td>Pavimentada</td>\n",
       "      <td>Hombre</td>\n",
       "      <td>No</td>\n",
       "      <td>Se ignora</td>\n",
       "      <td>43.0</td>\n",
       "      <td>Sólo daños</td>\n",
       "      <td>Aguascalientes</td>\n",
       "      <td>Aguascalientes</td>\n",
       "    </tr>\n",
       "    <tr>\n",
       "      <th>3</th>\n",
       "      <td>1</td>\n",
       "      <td>1.0</td>\n",
       "      <td>1997</td>\n",
       "      <td>1</td>\n",
       "      <td>20</td>\n",
       "      <td>5</td>\n",
       "      <td>22</td>\n",
       "      <td>Miércoles</td>\n",
       "      <td>Colisión con vehículo automotor</td>\n",
       "      <td>Falla del vehículo</td>\n",
       "      <td>Pavimentada</td>\n",
       "      <td>Hombre</td>\n",
       "      <td>No</td>\n",
       "      <td>Se ignora</td>\n",
       "      <td>26.0</td>\n",
       "      <td>No fatal</td>\n",
       "      <td>Aguascalientes</td>\n",
       "      <td>Aguascalientes</td>\n",
       "    </tr>\n",
       "    <tr>\n",
       "      <th>4</th>\n",
       "      <td>1</td>\n",
       "      <td>1.0</td>\n",
       "      <td>1997</td>\n",
       "      <td>1</td>\n",
       "      <td>20</td>\n",
       "      <td>15</td>\n",
       "      <td>25</td>\n",
       "      <td>Sábado</td>\n",
       "      <td>Colisión con vehículo automotor</td>\n",
       "      <td>Conductor</td>\n",
       "      <td>Pavimentada</td>\n",
       "      <td>Hombre</td>\n",
       "      <td>No</td>\n",
       "      <td>Se ignora</td>\n",
       "      <td>28.0</td>\n",
       "      <td>Sólo daños</td>\n",
       "      <td>Aguascalientes</td>\n",
       "      <td>Aguascalientes</td>\n",
       "    </tr>\n",
       "  </tbody>\n",
       "</table>\n",
       "</div>"
      ]
     },
     "metadata": {},
     "execution_count": 30
    }
   ],
   "metadata": {}
  },
  {
   "cell_type": "markdown",
   "source": [
    "### Transformamos el tipo de las columnas: anio, mes, diasemana, tipaccid, cuasacci, aliento."
   ],
   "metadata": {}
  },
  {
   "cell_type": "code",
   "execution_count": 31,
   "source": [
    "for i in [\"anio\", \"mes\"]:\n",
    "    accidentes_mexico[i]=accidentes_mexico[i].astype(\"str\")\n",
    "\n",
    "accidentes_mexico[\"id_dia\"]=accidentes_mexico[\"id_dia\"].astype(int).astype(\"str\")"
   ],
   "outputs": [],
   "metadata": {}
  },
  {
   "cell_type": "code",
   "execution_count": 32,
   "source": [
    "acentos = [\"diasemana\", \"tipaccid\", \"causaacci\", \"aliento\"]\n",
    "for i in acentos:\n",
    "    accidentes_mexico[i] = accidentes_mexico[i].apply(lambda x: quitar_acentos(x)) \n"
   ],
   "outputs": [],
   "metadata": {}
  },
  {
   "cell_type": "code",
   "execution_count": 34,
   "source": [
    "!mkdir ../data/processed/accidentes"
   ],
   "outputs": [],
   "metadata": {}
  },
  {
   "cell_type": "code",
   "execution_count": 35,
   "source": [
    "accidentes_mexico.to_csv(\"../data/processed/accidentes/accidentes_1997_2019.csv\", index=False)"
   ],
   "outputs": [],
   "metadata": {}
  },
  {
   "cell_type": "markdown",
   "source": [
    "# Registrados en circulación"
   ],
   "metadata": {}
  },
  {
   "cell_type": "code",
   "execution_count": 3,
   "source": [
    "import pandas as pd\n",
    "import glob\n",
    "import numpy as np"
   ],
   "outputs": [],
   "metadata": {}
  },
  {
   "cell_type": "markdown",
   "source": [
    "## Descargamos y descromprimos los datos"
   ],
   "metadata": {}
  },
  {
   "cell_type": "code",
   "execution_count": 6,
   "source": [
    "!mkdir ../data/raw/../data/raw/registros_automoviles\n",
    "\n",
    "!wget --no-check-certificate \\\n",
    "    https://www.inegi.org.mx/contenidos/programas/vehiculosmotor/datosabiertos/vmrc_anual_csv.zip \\\n",
    "    -O ../data/raw/registros_automoviles/vmrc_anual_csv.zip\n",
    "\n",
    "!wget --no-check-certificate \\\n",
    "    https://www.inegi.org.mx/contenidos/programas/vehiculosmotor/datosabiertos/vmrc_mensual_csv.zip\n",
    "    -O ../data/raw/registros_automoviles/vmrc_mensual_csv.zip"
   ],
   "outputs": [
    {
     "output_type": "stream",
     "name": "stdout",
     "text": [
      "mkdir: no se puede crear el directorio «../data/raw/../data/raw/registros_automoviles»: No existe el archivo o el directorio\n",
      "--2021-07-19 13:07:02--  https://www.inegi.org.mx/contenidos/programas/vehiculosmotor/datosabiertos/vmrc_anual_csv.zip\n",
      "Resolviendo www.inegi.org.mx (www.inegi.org.mx)... 200.23.8.5\n",
      "Conectando con www.inegi.org.mx (www.inegi.org.mx)[200.23.8.5]:443... conectado.\n",
      "Petición HTTP enviada, esperando respuesta... 200 OK\n",
      "Longitud: 1027126 (1003K) [application/x-zip-compressed]\n",
      "Guardando como: “../data/raw/registros_automoviles/vmrc_anual_csv.zip”\n",
      "\n",
      "../data/raw/registr 100%[===================>]   1003K  35.4KB/s    en 43s     \n",
      "\n",
      "2021-07-19 13:07:47 (23.3 KB/s) - “../data/raw/registros_automoviles/vmrc_anual_csv.zip” guardado [1027126/1027126]\n",
      "\n"
     ]
    }
   ],
   "metadata": {}
  },
  {
   "cell_type": "code",
   "execution_count": 7,
   "source": [
    "# descomprimos los datos del zip\n",
    "local_zip = \"../data/raw/registros_automoviles/vmrc_anual_csv.zip\"\n",
    "zip_ref = zipfile.ZipFile(local_zip, \"r\")\n",
    "zip_ref.extractall(\"../data/raw/registros_automoviles/vmrc_anual/\")\n",
    "\n",
    "local_zip = \"../data/raw/registros_automoviles/vmrc_mensual_csv.zip\"\n",
    "zip_ref = zipfile.ZipFile(local_zip, \"r\")\n",
    "zip_ref.extractall(\"../data/raw/registros_automoviles/vmrc_mensual/\")"
   ],
   "outputs": [],
   "metadata": {}
  },
  {
   "cell_type": "markdown",
   "source": [
    "## Conocimiento de la estructura de todos los archivos"
   ],
   "metadata": {}
  },
  {
   "cell_type": "code",
   "execution_count": 8,
   "source": [
    "vehiculos = pd.read_csv(\"../data/raw/registros_automoviles/vmrc_anual/conjunto_de_datos/vmrc_1997.csv\", index_col=False)\n",
    "vehiculos.columns = [item.lower() for item in vehiculos.columns.to_list()]\n",
    "vehiculos.head(3)"
   ],
   "outputs": [
    {
     "output_type": "execute_result",
     "data": {
      "text/plain": [
       "                                            prod_est  cobertura  anio  \\\n",
       "0  Vehículos de motor registrados en circulación....  Municipal  1997   \n",
       "1  Vehículos de motor registrados en circulación....  Municipal  1997   \n",
       "2  Vehículos de motor registrados en circulación....  Municipal  1997   \n",
       "\n",
       "   id_entidad  id_municipio  auto_oficial  auto_publico  auto_particular  \\\n",
       "0           1             1          1233          2212            81265   \n",
       "1           1             2             3             8              529   \n",
       "2           1             3             9            63             2155   \n",
       "\n",
       "   cam_pas_oficial  cam_pas_publico  cam_pas_particular  cyc_carga_oficial  \\\n",
       "0               20              725                 316                906   \n",
       "1                0               13                   1                  6   \n",
       "2                0               40                   6                 20   \n",
       "\n",
       "   cyc_carga_publico  cyc_carga_particular  moto_oficial  moto_de_alquiler  \\\n",
       "0                277                 37905           146                 0   \n",
       "1                  0                  1589             0                 0   \n",
       "2                  0                  5124             2                 0   \n",
       "\n",
       "   moto_particular              estatus  \n",
       "0             6231  Cifras Definitivas.  \n",
       "1               13  Cifras Definitivas.  \n",
       "2               69  Cifras Definitivas.  "
      ],
      "text/html": [
       "<div>\n",
       "<style scoped>\n",
       "    .dataframe tbody tr th:only-of-type {\n",
       "        vertical-align: middle;\n",
       "    }\n",
       "\n",
       "    .dataframe tbody tr th {\n",
       "        vertical-align: top;\n",
       "    }\n",
       "\n",
       "    .dataframe thead th {\n",
       "        text-align: right;\n",
       "    }\n",
       "</style>\n",
       "<table border=\"1\" class=\"dataframe\">\n",
       "  <thead>\n",
       "    <tr style=\"text-align: right;\">\n",
       "      <th></th>\n",
       "      <th>prod_est</th>\n",
       "      <th>cobertura</th>\n",
       "      <th>anio</th>\n",
       "      <th>id_entidad</th>\n",
       "      <th>id_municipio</th>\n",
       "      <th>auto_oficial</th>\n",
       "      <th>auto_publico</th>\n",
       "      <th>auto_particular</th>\n",
       "      <th>cam_pas_oficial</th>\n",
       "      <th>cam_pas_publico</th>\n",
       "      <th>cam_pas_particular</th>\n",
       "      <th>cyc_carga_oficial</th>\n",
       "      <th>cyc_carga_publico</th>\n",
       "      <th>cyc_carga_particular</th>\n",
       "      <th>moto_oficial</th>\n",
       "      <th>moto_de_alquiler</th>\n",
       "      <th>moto_particular</th>\n",
       "      <th>estatus</th>\n",
       "    </tr>\n",
       "  </thead>\n",
       "  <tbody>\n",
       "    <tr>\n",
       "      <th>0</th>\n",
       "      <td>Vehículos de motor registrados en circulación....</td>\n",
       "      <td>Municipal</td>\n",
       "      <td>1997</td>\n",
       "      <td>1</td>\n",
       "      <td>1</td>\n",
       "      <td>1233</td>\n",
       "      <td>2212</td>\n",
       "      <td>81265</td>\n",
       "      <td>20</td>\n",
       "      <td>725</td>\n",
       "      <td>316</td>\n",
       "      <td>906</td>\n",
       "      <td>277</td>\n",
       "      <td>37905</td>\n",
       "      <td>146</td>\n",
       "      <td>0</td>\n",
       "      <td>6231</td>\n",
       "      <td>Cifras Definitivas.</td>\n",
       "    </tr>\n",
       "    <tr>\n",
       "      <th>1</th>\n",
       "      <td>Vehículos de motor registrados en circulación....</td>\n",
       "      <td>Municipal</td>\n",
       "      <td>1997</td>\n",
       "      <td>1</td>\n",
       "      <td>2</td>\n",
       "      <td>3</td>\n",
       "      <td>8</td>\n",
       "      <td>529</td>\n",
       "      <td>0</td>\n",
       "      <td>13</td>\n",
       "      <td>1</td>\n",
       "      <td>6</td>\n",
       "      <td>0</td>\n",
       "      <td>1589</td>\n",
       "      <td>0</td>\n",
       "      <td>0</td>\n",
       "      <td>13</td>\n",
       "      <td>Cifras Definitivas.</td>\n",
       "    </tr>\n",
       "    <tr>\n",
       "      <th>2</th>\n",
       "      <td>Vehículos de motor registrados en circulación....</td>\n",
       "      <td>Municipal</td>\n",
       "      <td>1997</td>\n",
       "      <td>1</td>\n",
       "      <td>3</td>\n",
       "      <td>9</td>\n",
       "      <td>63</td>\n",
       "      <td>2155</td>\n",
       "      <td>0</td>\n",
       "      <td>40</td>\n",
       "      <td>6</td>\n",
       "      <td>20</td>\n",
       "      <td>0</td>\n",
       "      <td>5124</td>\n",
       "      <td>2</td>\n",
       "      <td>0</td>\n",
       "      <td>69</td>\n",
       "      <td>Cifras Definitivas.</td>\n",
       "    </tr>\n",
       "  </tbody>\n",
       "</table>\n",
       "</div>"
      ]
     },
     "metadata": {},
     "execution_count": 8
    }
   ],
   "metadata": {}
  },
  {
   "cell_type": "code",
   "execution_count": 9,
   "source": [
    "vehiculos.shape"
   ],
   "outputs": [
    {
     "output_type": "execute_result",
     "data": {
      "text/plain": [
       "(1495, 18)"
      ]
     },
     "metadata": {},
     "execution_count": 9
    }
   ],
   "metadata": {}
  },
  {
   "cell_type": "code",
   "execution_count": 10,
   "source": [
    "vehiculos.info()"
   ],
   "outputs": [
    {
     "output_type": "stream",
     "name": "stdout",
     "text": [
      "<class 'pandas.core.frame.DataFrame'>\n",
      "RangeIndex: 1495 entries, 0 to 1494\n",
      "Data columns (total 18 columns):\n",
      " #   Column                Non-Null Count  Dtype \n",
      "---  ------                --------------  ----- \n",
      " 0   prod_est              1495 non-null   object\n",
      " 1   cobertura             1495 non-null   object\n",
      " 2   anio                  1495 non-null   int64 \n",
      " 3   id_entidad            1495 non-null   int64 \n",
      " 4   id_municipio          1495 non-null   int64 \n",
      " 5   auto_oficial          1495 non-null   int64 \n",
      " 6   auto_publico          1495 non-null   int64 \n",
      " 7   auto_particular       1495 non-null   int64 \n",
      " 8   cam_pas_oficial       1495 non-null   int64 \n",
      " 9   cam_pas_publico       1495 non-null   int64 \n",
      " 10  cam_pas_particular    1495 non-null   int64 \n",
      " 11  cyc_carga_oficial     1495 non-null   int64 \n",
      " 12  cyc_carga_publico     1495 non-null   int64 \n",
      " 13  cyc_carga_particular  1495 non-null   int64 \n",
      " 14  moto_oficial          1495 non-null   int64 \n",
      " 15  moto_de_alquiler      1495 non-null   int64 \n",
      " 16  moto_particular       1495 non-null   int64 \n",
      " 17  estatus               1495 non-null   object\n",
      "dtypes: int64(15), object(3)\n",
      "memory usage: 210.4+ KB\n"
     ]
    }
   ],
   "metadata": {}
  },
  {
   "cell_type": "code",
   "execution_count": 11,
   "source": [
    "for i in ['prod_est', 'cobertura', 'anio', 'id_entidad', 'id_municipio']:\n",
    "    print(\"Columna:\" , i, \"valores unicos\", vehiculos[i].unique())"
   ],
   "outputs": [
    {
     "output_type": "stream",
     "name": "stdout",
     "text": [
      "Columna: prod_est valores unicos ['Vehículos de motor registrados en circulación. Anual']\n",
      "Columna: cobertura valores unicos ['Municipal']\n",
      "Columna: anio valores unicos [1997]\n",
      "Columna: id_entidad valores unicos [ 1  2  3  4  5  6  7  8  9 10 11 12 13 14 15 16 17 18 19 20 21 22 23 24\n",
      " 25 26 27 28 29 30 31 32]\n",
      "Columna: id_municipio valores unicos [  1   2   3   4   5   6   7   8   9  10  11  12  13  14  15  16  17  18\n",
      "  19  20  21  22  23  24  25  26  27  28  29  30  31  32  33  34  35  36\n",
      "  37  38  40  57  59  61  65  68  74  78  81  89  97 101 106 108 109  39\n",
      "  41  42  43  44  45  46  47  48  49  50  51  52  53  54  55  56  58  60\n",
      "  62  63  64  66  67  73  75  69  70  71  72  76  77  79  80  82  83  84\n",
      "  85  86  87  88  90  91  92  93  94  95  96  98  99 100 102 103 104 105\n",
      " 107 110 111 112 113 114 115 116 117 118 119 120 121 122 123 124   0 132\n",
      " 140 153 154 156 164 169 172 174 186 197 207 208 125 126 127 128 129 130\n",
      " 131 133 134 135 136 137 138 139 141 142 143 144 145 146 147 148 149 150\n",
      " 151 152 155 157 158 159 160 161 162 163 165 166 167 168 170 171 173 175\n",
      " 176 177 178 179 180 181 182 183 184 185 187 188 189 190 191 192 193 194\n",
      " 195 196 198 199 200 201 202 203 204 205 206 209 210]\n"
     ]
    }
   ],
   "metadata": {}
  },
  {
   "cell_type": "code",
   "execution_count": 12,
   "source": [
    "vehiculos = vehiculos.groupby([\"anio\", \"id_entidad\",\"id_municipio\"], as_index=False)[vehiculos.columns[5:]].sum()"
   ],
   "outputs": [],
   "metadata": {}
  },
  {
   "cell_type": "markdown",
   "source": [
    "Solo se necesitaran las columnas: \"anio\", \"id_entidad\", \"id_municipio\", 'auto_oficial', 'auto_publico', 'auto_particular', 'cam_pas_oficial', 'cam_pas_publico', 'cam_pas_particular', 'cyc_carga_oficial', 'cyc_carga_publico', 'cyc_carga_particular', 'moto_oficial','moto_de_alquiler', 'moto_particular'."
   ],
   "metadata": {}
  },
  {
   "cell_type": "markdown",
   "source": [
    "## Concatenamos todos los archivos en uno solo."
   ],
   "metadata": {}
  },
  {
   "cell_type": "code",
   "execution_count": 15,
   "source": [
    "# juntamos todos los accidentes en uno solo archivo.\n",
    "# get data file names\n",
    "path = '../data/raw/registros_automoviles/vmrc_anual/conjunto_de_datos/'\n",
    "filenames = os.listdir(path)\n",
    "dfs = []\n",
    "# datos que nos interesan. \n",
    "col_analisis=[\"anio\", \"id_entidad\", \"id_municipio\", 'auto_oficial', 'auto_publico', 'auto_particular', \n",
    "              'cam_pas_oficial', 'cam_pas_publico', 'cam_pas_particular', 'cyc_carga_oficial', \n",
    "              'cyc_carga_publico', 'cyc_carga_particular', 'moto_oficial','moto_de_alquiler', \n",
    "              'moto_particular']\n",
    "\n",
    "for filename in filenames:\n",
    "    df_year=pd.read_csv(path+filename, index_col=False)\n",
    "    df_year.columns = [item.lower() for item in df_year.columns.to_list()]\n",
    "    dfs.append(df_year[col_analisis])\n",
    "    print(filename)\n",
    "\n",
    "# Concatenate all data into one DataFrame\n",
    "vehiculos_datos_completos = pd.concat(dfs, ignore_index=True)"
   ],
   "outputs": [
    {
     "output_type": "stream",
     "name": "stdout",
     "text": [
      "vmrc_1984.csv\n",
      "vmrc_1998.csv\n",
      "vmrc_1987.csv\n",
      "vmrc_2005.csv\n",
      "vmrc_2008.csv\n",
      "vmrc_1989.csv\n",
      "vmrc_2018.csv\n",
      "vmrc_2013.csv\n",
      "vmrc_2012.csv\n",
      "vmrc_2007.csv\n",
      "vmrc_2009.csv\n",
      "vmrc_2002.csv\n",
      "vmrc_2017.csv\n",
      "vmrc_1986.csv\n",
      "vmrc_1997.csv\n",
      "vmrc_1985.csv\n",
      "vmrc_2010.csv\n",
      "vmrc_1983.csv\n",
      "vmrc_1980.csv\n",
      "vmrc_2004.csv\n",
      "vmrc_2015.csv\n",
      "vmrc_1981.csv\n",
      "vmrc_1999.csv\n",
      "vmrc_1992.csv\n",
      "vmrc_2016.csv\n",
      "vmrc_1991.csv\n",
      "vmrc_2000.csv\n",
      "vmrc_1996.csv\n",
      "vmrc_1990.csv\n",
      "vmrc_1982.csv\n",
      "vmrc_2006.csv\n",
      "vmrc_1994.csv\n",
      "vmrc_1988.csv\n",
      "vmrc_2003.csv\n",
      "vmrc_2019.csv\n",
      "vmrc_2011.csv\n",
      "vmrc_2014.csv\n",
      "vmrc_1993.csv\n",
      "vmrc_2001.csv\n",
      "vmrc_1995.csv\n"
     ]
    }
   ],
   "metadata": {}
  },
  {
   "cell_type": "code",
   "execution_count": 16,
   "source": [
    "for i in ['anio', 'id_entidad', 'id_municipio']:\n",
    "    print(\"Columna:\" , i, \"valores unicos\", vehiculos_datos_completos[i].unique())"
   ],
   "outputs": [
    {
     "output_type": "stream",
     "name": "stdout",
     "text": [
      "Columna: anio valores unicos [1984 1998 1987 2005 2008 1989 2018 2013 2012 2007 2009 2002 2017 1986\n",
      " 1997 1985 2010 1983 1980 2004 2015 1981 1999 1992 2016 1991 2000 1996\n",
      " 1990 1982 2006 1994 1988 2003 2019 2011 2014 1993 2001 1995]\n",
      "Columna: id_entidad valores unicos [ 1  2  3  4  5  6  7  8  9 10 11 12 13 14 15 16 17 18 19 20 21 22 23 24\n",
      " 25 26 27 28 29 30 31 32]\n",
      "Columna: id_municipio valores unicos [  1   2   3   4   5   6   7   8   9  10  17  18  20  25  28  30  32  33\n",
      "  35 999  19  27  40  51  57  61  65  68  69  74  89  97 101 102 106 108\n",
      " 109  11  21  24  31  36  37  45  48  50  52  55  60  62  12  13  14  15\n",
      "  16  38  23  42  46  29  34  53  39  41  56  63  67  70  76  77  84  22\n",
      "  43  58  73  78  82  83  85  93  94 100 113 114 118 121 124  54  81  88\n",
      "  92  95  99 104 110 120  66  71  75  86  98 107 112  26  44  49   0 119\n",
      " 132 140 153 154 156 164 174 186 194 197 207 208  87 115 123 126 128 131\n",
      " 133 138 141 148 152 155 160 161 175 181 183 189 192 193 196  59  96  47\n",
      "  64  72  79  80  90  91 103 105 111 116 117 122 169 172 125 127 129 130\n",
      " 134 135 136 137 139 142 143 144 145 146 147 149 150 151 157 158 159 162\n",
      " 163 165 166 167 168 170 171 173 176 177 178 179 180 182 184 185 187 188\n",
      " 190 191 195 198 199 200 201 202 203 204 205 206 209 210 211 212 213 214\n",
      " 215 216 217 218 219 220 221 222 223 224 225 226 227 228 229 230 231 232\n",
      " 233 234 235 236 237 238 239 240 241 242 243 244 245 246 247 248 249 250\n",
      " 251 252 253 254 255 256 257 258 259 260 261 262 263 264 265 266 267 268\n",
      " 269 270 271 272 273 274 275 276 277 278 279 280 281 282 283 284 285 286\n",
      " 287 288 289 290 291 292 293 294 295 296 297 298 299 300 301 302 303 304\n",
      " 305 306 307 308 309 310 311 312 313 314 315 316 317 318 319 320 321 322\n",
      " 323 324 325 326 327 328 329 330 331 332 333 334 335 336 337 338 339 340\n",
      " 341 342 343 344 345 346 347 348 349 350 351 352 353 354 355 356 357 358\n",
      " 359 360 361 362 363 364 365 366 367 368 369 370 371 372 373 374 375 376\n",
      " 377 378 379 380 381 382 383 384 385 386 387 388 389 390 391 392 393 394\n",
      " 395 396 397 398 399 400 401 402 403 404 405 406 407 408 409 410 411 412\n",
      " 413 414 415 416 417 418 419 420 421 422 423 424 425 426 427 428 429 430\n",
      " 431 432 433 434 435 436 437 438 439 440 441 442 443 444 445 446 447 448\n",
      " 449 450 451 452 453 454 455 456 457 458 459 460 461 462 463 464 465 466\n",
      " 467 468 469 470 471 472 473 474 475 476 477 478 479 480 481 482 483 484\n",
      " 485 486 487 488 489 490 491 492 493 494 495 496 497 498 499 500 501 502\n",
      " 503 504 505 506 507 508 509 510 511 512 513 514 515 516 517 518 519 520\n",
      " 521 522 523 524 525 526 527 528 529 530 531 532 533 534 535 536 537 538\n",
      " 539 540 541 542 543 544 545 546 547 548 549 550 551 552 553 554 555 556\n",
      " 557 558 559 560 561 562 563 564 565 566 567 568 569 570]\n"
     ]
    }
   ],
   "metadata": {}
  },
  {
   "cell_type": "code",
   "execution_count": 17,
   "source": [
    "vehiculos_datos_completos.head()"
   ],
   "outputs": [
    {
     "output_type": "execute_result",
     "data": {
      "text/plain": [
       "   anio  id_entidad  id_municipio  auto_oficial  auto_publico  \\\n",
       "0  1984           1             1          1105           747   \n",
       "1  1984           1             2             2            23   \n",
       "2  1984           1             3             4            44   \n",
       "3  1984           1             4             1             9   \n",
       "4  1984           1             5             3            11   \n",
       "\n",
       "   auto_particular  cam_pas_oficial  cam_pas_publico  cam_pas_particular  \\\n",
       "0            30263               33              516                  71   \n",
       "1              123                1                0                   2   \n",
       "2              399                0                0                   1   \n",
       "3               91                0                0                   0   \n",
       "4              262                0               11                   1   \n",
       "\n",
       "   cyc_carga_oficial  cyc_carga_publico  cyc_carga_particular  moto_oficial  \\\n",
       "0                948                590                 18231            34   \n",
       "1                  2                  0                   395             0   \n",
       "2                 12                  1                  1155             0   \n",
       "3                  4                  0                   154             0   \n",
       "4                  3                  0                   560             0   \n",
       "\n",
       "   moto_de_alquiler  moto_particular  \n",
       "0                 0             2032  \n",
       "1                 0               49  \n",
       "2                 0               45  \n",
       "3                 0                8  \n",
       "4                 0               76  "
      ],
      "text/html": [
       "<div>\n",
       "<style scoped>\n",
       "    .dataframe tbody tr th:only-of-type {\n",
       "        vertical-align: middle;\n",
       "    }\n",
       "\n",
       "    .dataframe tbody tr th {\n",
       "        vertical-align: top;\n",
       "    }\n",
       "\n",
       "    .dataframe thead th {\n",
       "        text-align: right;\n",
       "    }\n",
       "</style>\n",
       "<table border=\"1\" class=\"dataframe\">\n",
       "  <thead>\n",
       "    <tr style=\"text-align: right;\">\n",
       "      <th></th>\n",
       "      <th>anio</th>\n",
       "      <th>id_entidad</th>\n",
       "      <th>id_municipio</th>\n",
       "      <th>auto_oficial</th>\n",
       "      <th>auto_publico</th>\n",
       "      <th>auto_particular</th>\n",
       "      <th>cam_pas_oficial</th>\n",
       "      <th>cam_pas_publico</th>\n",
       "      <th>cam_pas_particular</th>\n",
       "      <th>cyc_carga_oficial</th>\n",
       "      <th>cyc_carga_publico</th>\n",
       "      <th>cyc_carga_particular</th>\n",
       "      <th>moto_oficial</th>\n",
       "      <th>moto_de_alquiler</th>\n",
       "      <th>moto_particular</th>\n",
       "    </tr>\n",
       "  </thead>\n",
       "  <tbody>\n",
       "    <tr>\n",
       "      <th>0</th>\n",
       "      <td>1984</td>\n",
       "      <td>1</td>\n",
       "      <td>1</td>\n",
       "      <td>1105</td>\n",
       "      <td>747</td>\n",
       "      <td>30263</td>\n",
       "      <td>33</td>\n",
       "      <td>516</td>\n",
       "      <td>71</td>\n",
       "      <td>948</td>\n",
       "      <td>590</td>\n",
       "      <td>18231</td>\n",
       "      <td>34</td>\n",
       "      <td>0</td>\n",
       "      <td>2032</td>\n",
       "    </tr>\n",
       "    <tr>\n",
       "      <th>1</th>\n",
       "      <td>1984</td>\n",
       "      <td>1</td>\n",
       "      <td>2</td>\n",
       "      <td>2</td>\n",
       "      <td>23</td>\n",
       "      <td>123</td>\n",
       "      <td>1</td>\n",
       "      <td>0</td>\n",
       "      <td>2</td>\n",
       "      <td>2</td>\n",
       "      <td>0</td>\n",
       "      <td>395</td>\n",
       "      <td>0</td>\n",
       "      <td>0</td>\n",
       "      <td>49</td>\n",
       "    </tr>\n",
       "    <tr>\n",
       "      <th>2</th>\n",
       "      <td>1984</td>\n",
       "      <td>1</td>\n",
       "      <td>3</td>\n",
       "      <td>4</td>\n",
       "      <td>44</td>\n",
       "      <td>399</td>\n",
       "      <td>0</td>\n",
       "      <td>0</td>\n",
       "      <td>1</td>\n",
       "      <td>12</td>\n",
       "      <td>1</td>\n",
       "      <td>1155</td>\n",
       "      <td>0</td>\n",
       "      <td>0</td>\n",
       "      <td>45</td>\n",
       "    </tr>\n",
       "    <tr>\n",
       "      <th>3</th>\n",
       "      <td>1984</td>\n",
       "      <td>1</td>\n",
       "      <td>4</td>\n",
       "      <td>1</td>\n",
       "      <td>9</td>\n",
       "      <td>91</td>\n",
       "      <td>0</td>\n",
       "      <td>0</td>\n",
       "      <td>0</td>\n",
       "      <td>4</td>\n",
       "      <td>0</td>\n",
       "      <td>154</td>\n",
       "      <td>0</td>\n",
       "      <td>0</td>\n",
       "      <td>8</td>\n",
       "    </tr>\n",
       "    <tr>\n",
       "      <th>4</th>\n",
       "      <td>1984</td>\n",
       "      <td>1</td>\n",
       "      <td>5</td>\n",
       "      <td>3</td>\n",
       "      <td>11</td>\n",
       "      <td>262</td>\n",
       "      <td>0</td>\n",
       "      <td>11</td>\n",
       "      <td>1</td>\n",
       "      <td>3</td>\n",
       "      <td>0</td>\n",
       "      <td>560</td>\n",
       "      <td>0</td>\n",
       "      <td>0</td>\n",
       "      <td>76</td>\n",
       "    </tr>\n",
       "  </tbody>\n",
       "</table>\n",
       "</div>"
      ]
     },
     "metadata": {},
     "execution_count": 17
    }
   ],
   "metadata": {}
  },
  {
   "cell_type": "code",
   "execution_count": 18,
   "source": [
    "vehiculos_datos_completos[vehiculos_datos_completos.id_municipio.isin([0,999])]"
   ],
   "outputs": [
    {
     "output_type": "execute_result",
     "data": {
      "text/plain": [
       "       anio  id_entidad  id_municipio  auto_oficial  auto_publico  \\\n",
       "37     1984           5           999            25           314   \n",
       "67     1984           7           999             5            42   \n",
       "90     1984           8           999            35           135   \n",
       "116    1984          10           999             8           181   \n",
       "136    1984          11           999             0           361   \n",
       "...     ...         ...           ...           ...           ...   \n",
       "57359  1995          26           999             0             0   \n",
       "57401  1995          28           999             0             4   \n",
       "57477  1995          30           999             0          1140   \n",
       "57496  1995          31           999             0           443   \n",
       "57537  1995          32           999             0            86   \n",
       "\n",
       "       auto_particular  cam_pas_oficial  cam_pas_publico  cam_pas_particular  \\\n",
       "37               13550                5              185                  55   \n",
       "67                1282                0               75                  10   \n",
       "90                2857                9               49                  10   \n",
       "116               1777               18              113                  11   \n",
       "136               7936                0              194                  20   \n",
       "...                ...              ...              ...                 ...   \n",
       "57359              691                0                1                   0   \n",
       "57401             2083                0                0                   0   \n",
       "57477            13089                0              347                1004   \n",
       "57496             4095                0                5                   0   \n",
       "57537             1602                0               45                  18   \n",
       "\n",
       "       cyc_carga_oficial  cyc_carga_publico  cyc_carga_particular  \\\n",
       "37                    12                192                  9333   \n",
       "67                     5                112                  2167   \n",
       "90                    50                190                  7743   \n",
       "116                   73                239                  4769   \n",
       "136                   11                106                 11952   \n",
       "...                  ...                ...                   ...   \n",
       "57359                  0                  2                   105   \n",
       "57401                  0                  0                  5710   \n",
       "57477                  0                224                 20860   \n",
       "57496                  0                 96                  3890   \n",
       "57537                  0                 38                  7151   \n",
       "\n",
       "       moto_oficial  moto_de_alquiler  moto_particular  \n",
       "37                4                 0              463  \n",
       "67                0                 0               15  \n",
       "90                2                 0              204  \n",
       "116               0                 0              322  \n",
       "136               4                 0             1052  \n",
       "...             ...               ...              ...  \n",
       "57359             0                 0                1  \n",
       "57401             0                 0                2  \n",
       "57477             0                 0              276  \n",
       "57496             0                 0                0  \n",
       "57537             0                 0              250  \n",
       "\n",
       "[382 rows x 15 columns]"
      ],
      "text/html": [
       "<div>\n",
       "<style scoped>\n",
       "    .dataframe tbody tr th:only-of-type {\n",
       "        vertical-align: middle;\n",
       "    }\n",
       "\n",
       "    .dataframe tbody tr th {\n",
       "        vertical-align: top;\n",
       "    }\n",
       "\n",
       "    .dataframe thead th {\n",
       "        text-align: right;\n",
       "    }\n",
       "</style>\n",
       "<table border=\"1\" class=\"dataframe\">\n",
       "  <thead>\n",
       "    <tr style=\"text-align: right;\">\n",
       "      <th></th>\n",
       "      <th>anio</th>\n",
       "      <th>id_entidad</th>\n",
       "      <th>id_municipio</th>\n",
       "      <th>auto_oficial</th>\n",
       "      <th>auto_publico</th>\n",
       "      <th>auto_particular</th>\n",
       "      <th>cam_pas_oficial</th>\n",
       "      <th>cam_pas_publico</th>\n",
       "      <th>cam_pas_particular</th>\n",
       "      <th>cyc_carga_oficial</th>\n",
       "      <th>cyc_carga_publico</th>\n",
       "      <th>cyc_carga_particular</th>\n",
       "      <th>moto_oficial</th>\n",
       "      <th>moto_de_alquiler</th>\n",
       "      <th>moto_particular</th>\n",
       "    </tr>\n",
       "  </thead>\n",
       "  <tbody>\n",
       "    <tr>\n",
       "      <th>37</th>\n",
       "      <td>1984</td>\n",
       "      <td>5</td>\n",
       "      <td>999</td>\n",
       "      <td>25</td>\n",
       "      <td>314</td>\n",
       "      <td>13550</td>\n",
       "      <td>5</td>\n",
       "      <td>185</td>\n",
       "      <td>55</td>\n",
       "      <td>12</td>\n",
       "      <td>192</td>\n",
       "      <td>9333</td>\n",
       "      <td>4</td>\n",
       "      <td>0</td>\n",
       "      <td>463</td>\n",
       "    </tr>\n",
       "    <tr>\n",
       "      <th>67</th>\n",
       "      <td>1984</td>\n",
       "      <td>7</td>\n",
       "      <td>999</td>\n",
       "      <td>5</td>\n",
       "      <td>42</td>\n",
       "      <td>1282</td>\n",
       "      <td>0</td>\n",
       "      <td>75</td>\n",
       "      <td>10</td>\n",
       "      <td>5</td>\n",
       "      <td>112</td>\n",
       "      <td>2167</td>\n",
       "      <td>0</td>\n",
       "      <td>0</td>\n",
       "      <td>15</td>\n",
       "    </tr>\n",
       "    <tr>\n",
       "      <th>90</th>\n",
       "      <td>1984</td>\n",
       "      <td>8</td>\n",
       "      <td>999</td>\n",
       "      <td>35</td>\n",
       "      <td>135</td>\n",
       "      <td>2857</td>\n",
       "      <td>9</td>\n",
       "      <td>49</td>\n",
       "      <td>10</td>\n",
       "      <td>50</td>\n",
       "      <td>190</td>\n",
       "      <td>7743</td>\n",
       "      <td>2</td>\n",
       "      <td>0</td>\n",
       "      <td>204</td>\n",
       "    </tr>\n",
       "    <tr>\n",
       "      <th>116</th>\n",
       "      <td>1984</td>\n",
       "      <td>10</td>\n",
       "      <td>999</td>\n",
       "      <td>8</td>\n",
       "      <td>181</td>\n",
       "      <td>1777</td>\n",
       "      <td>18</td>\n",
       "      <td>113</td>\n",
       "      <td>11</td>\n",
       "      <td>73</td>\n",
       "      <td>239</td>\n",
       "      <td>4769</td>\n",
       "      <td>0</td>\n",
       "      <td>0</td>\n",
       "      <td>322</td>\n",
       "    </tr>\n",
       "    <tr>\n",
       "      <th>136</th>\n",
       "      <td>1984</td>\n",
       "      <td>11</td>\n",
       "      <td>999</td>\n",
       "      <td>0</td>\n",
       "      <td>361</td>\n",
       "      <td>7936</td>\n",
       "      <td>0</td>\n",
       "      <td>194</td>\n",
       "      <td>20</td>\n",
       "      <td>11</td>\n",
       "      <td>106</td>\n",
       "      <td>11952</td>\n",
       "      <td>4</td>\n",
       "      <td>0</td>\n",
       "      <td>1052</td>\n",
       "    </tr>\n",
       "    <tr>\n",
       "      <th>...</th>\n",
       "      <td>...</td>\n",
       "      <td>...</td>\n",
       "      <td>...</td>\n",
       "      <td>...</td>\n",
       "      <td>...</td>\n",
       "      <td>...</td>\n",
       "      <td>...</td>\n",
       "      <td>...</td>\n",
       "      <td>...</td>\n",
       "      <td>...</td>\n",
       "      <td>...</td>\n",
       "      <td>...</td>\n",
       "      <td>...</td>\n",
       "      <td>...</td>\n",
       "      <td>...</td>\n",
       "    </tr>\n",
       "    <tr>\n",
       "      <th>57359</th>\n",
       "      <td>1995</td>\n",
       "      <td>26</td>\n",
       "      <td>999</td>\n",
       "      <td>0</td>\n",
       "      <td>0</td>\n",
       "      <td>691</td>\n",
       "      <td>0</td>\n",
       "      <td>1</td>\n",
       "      <td>0</td>\n",
       "      <td>0</td>\n",
       "      <td>2</td>\n",
       "      <td>105</td>\n",
       "      <td>0</td>\n",
       "      <td>0</td>\n",
       "      <td>1</td>\n",
       "    </tr>\n",
       "    <tr>\n",
       "      <th>57401</th>\n",
       "      <td>1995</td>\n",
       "      <td>28</td>\n",
       "      <td>999</td>\n",
       "      <td>0</td>\n",
       "      <td>4</td>\n",
       "      <td>2083</td>\n",
       "      <td>0</td>\n",
       "      <td>0</td>\n",
       "      <td>0</td>\n",
       "      <td>0</td>\n",
       "      <td>0</td>\n",
       "      <td>5710</td>\n",
       "      <td>0</td>\n",
       "      <td>0</td>\n",
       "      <td>2</td>\n",
       "    </tr>\n",
       "    <tr>\n",
       "      <th>57477</th>\n",
       "      <td>1995</td>\n",
       "      <td>30</td>\n",
       "      <td>999</td>\n",
       "      <td>0</td>\n",
       "      <td>1140</td>\n",
       "      <td>13089</td>\n",
       "      <td>0</td>\n",
       "      <td>347</td>\n",
       "      <td>1004</td>\n",
       "      <td>0</td>\n",
       "      <td>224</td>\n",
       "      <td>20860</td>\n",
       "      <td>0</td>\n",
       "      <td>0</td>\n",
       "      <td>276</td>\n",
       "    </tr>\n",
       "    <tr>\n",
       "      <th>57496</th>\n",
       "      <td>1995</td>\n",
       "      <td>31</td>\n",
       "      <td>999</td>\n",
       "      <td>0</td>\n",
       "      <td>443</td>\n",
       "      <td>4095</td>\n",
       "      <td>0</td>\n",
       "      <td>5</td>\n",
       "      <td>0</td>\n",
       "      <td>0</td>\n",
       "      <td>96</td>\n",
       "      <td>3890</td>\n",
       "      <td>0</td>\n",
       "      <td>0</td>\n",
       "      <td>0</td>\n",
       "    </tr>\n",
       "    <tr>\n",
       "      <th>57537</th>\n",
       "      <td>1995</td>\n",
       "      <td>32</td>\n",
       "      <td>999</td>\n",
       "      <td>0</td>\n",
       "      <td>86</td>\n",
       "      <td>1602</td>\n",
       "      <td>0</td>\n",
       "      <td>45</td>\n",
       "      <td>18</td>\n",
       "      <td>0</td>\n",
       "      <td>38</td>\n",
       "      <td>7151</td>\n",
       "      <td>0</td>\n",
       "      <td>0</td>\n",
       "      <td>250</td>\n",
       "    </tr>\n",
       "  </tbody>\n",
       "</table>\n",
       "<p>382 rows × 15 columns</p>\n",
       "</div>"
      ]
     },
     "metadata": {},
     "execution_count": 18
    }
   ],
   "metadata": {
    "scrolled": true
   }
  },
  {
   "cell_type": "code",
   "execution_count": 19,
   "source": [
    "vehiculos_datos_completos[vehiculos_datos_completos.id_municipio.isin([0,999])].id_entidad.unique()"
   ],
   "outputs": [
    {
     "output_type": "execute_result",
     "data": {
      "text/plain": [
       "array([ 5,  7,  8, 10, 11, 12, 13, 14, 15, 16, 17, 19, 20, 21, 24, 26, 28,\n",
       "       29, 30, 31, 32, 18, 25, 27,  9, 23])"
      ]
     },
     "metadata": {},
     "execution_count": 19
    }
   ],
   "metadata": {}
  },
  {
   "cell_type": "code",
   "execution_count": 22,
   "source": [
    "# concatenamos con los catalogos\n",
    "cat_estado = pd.read_csv(\"../data/raw/registros_automoviles/vmrc_anual/catalogos/tc_entidad.csv\", index_col=False)\n",
    "cat_estado.columns = [item.lower() for item in cat_estado.columns.to_list()]\n",
    "cat_estado[\"nom_entidad\"] = cat_estado[\"nom_entidad\"].apply(lambda x: quitar_acentos(x)) \n",
    "\n",
    "print(vehiculos_datos_completos.shape)\n",
    "vehiculos_datos_completos=pd.merge(vehiculos_datos_completos, cat_estado, on=\"id_entidad\", how=\"left\")\n",
    "print(vehiculos_datos_completos.shape)"
   ],
   "outputs": [
    {
     "output_type": "stream",
     "name": "stdout",
     "text": [
      "(57538, 15)\n",
      "(57538, 16)\n"
     ]
    }
   ],
   "metadata": {}
  },
  {
   "cell_type": "code",
   "execution_count": 23,
   "source": [
    "cat_municipio = pd.read_csv(\"../data/raw/registros_automoviles/vmrc_anual/catalogos/tc_municipio.csv\", index_col=False)\n",
    "cat_municipio.columns = [item.lower() for item in cat_municipio.columns.to_list()]\n",
    "cat_estado[\"nom_entidad\"] = cat_estado[\"nom_entidad\"].apply(lambda x: quitar_acentos(x)) \n",
    "\n",
    "print(vehiculos_datos_completos.shape)\n",
    "vehiculos_datos_completos=pd.merge(vehiculos_datos_completos, cat_municipio, on=[\"id_entidad\", \"id_municipio\"],\n",
    "                                   how=\"left\")\n",
    "print(vehiculos_datos_completos.shape)"
   ],
   "outputs": [
    {
     "output_type": "stream",
     "name": "stdout",
     "text": [
      "(57538, 16)\n",
      "(57538, 17)\n"
     ]
    }
   ],
   "metadata": {}
  },
  {
   "cell_type": "code",
   "execution_count": 25,
   "source": [
    "vehiculos_datos_completos.to_csv(\"../data/processed/registros_automaviles_anual_1997_2019.csv\", index=False)"
   ],
   "outputs": [],
   "metadata": {}
  },
  {
   "cell_type": "markdown",
   "source": [
    "## Limpieza datos vehiculos mensuales"
   ],
   "metadata": {}
  },
  {
   "cell_type": "code",
   "execution_count": 46,
   "source": [
    "path = \"../data/raw/registros_automoviles/vmrc_mensual/\"\n",
    "path_mensual = os.listdir(path)\n",
    "filename = []\n",
    "for i in path_mensual:\n",
    "    filename.append(path+ i+\"/conjunto_de_datos/\"+os.listdir(path+i+\"/conjunto_de_datos/\")[0])"
   ],
   "outputs": [],
   "metadata": {}
  },
  {
   "cell_type": "code",
   "execution_count": 56,
   "source": [
    "filename"
   ],
   "outputs": [
    {
     "output_type": "execute_result",
     "data": {
      "text/plain": [
       "['../data/raw/registros_automoviles/vmrc_mensual/vmrc_produccion_mensual_1983_2021/conjunto_de_datos/vmrc_produccion_mensual_tr_cifra_1983_2021.csv',\n",
       " '../data/raw/registros_automoviles/vmrc_mensual/vmrc_venta_veh_mensual_1988_2021/conjunto_de_datos/vmrc_venta_veh_mensual_tr_cifra_1988_2021.csv',\n",
       " '../data/raw/registros_automoviles/vmrc_mensual/vmrc_vehiculos_mensual_1991_2021/conjunto_de_datos/vmrc_vehiculos_mensual_tr_cifra_1991_2021.csv',\n",
       " '../data/raw/registros_automoviles/vmrc_mensual/vmrc_venta_cam_mensual_1995_2021/conjunto_de_datos/vmrc_venta_cam_mensual_tr_cifra_1995_2021.csv']"
      ]
     },
     "metadata": {},
     "execution_count": 56
    }
   ],
   "metadata": {}
  },
  {
   "cell_type": "code",
   "execution_count": 52,
   "source": [
    "vehiculos_mensual = pd.read_csv(filename[3], index_col=False)\n",
    "vehiculos_mensual.head()"
   ],
   "outputs": [
    {
     "output_type": "execute_result",
     "data": {
      "text/plain": [
       "                                            PROD_EST COBERTURA  ANIO  ID_MES  \\\n",
       "0  Vehículos de motor registrados en circulación....  Nacional  1995       1   \n",
       "1  Vehículos de motor registrados en circulación....  Nacional  1995       2   \n",
       "2  Vehículos de motor registrados en circulación....  Nacional  1995       3   \n",
       "3  Vehículos de motor registrados en circulación....  Nacional  1995       4   \n",
       "4  Vehículos de motor registrados en circulación....  Nacional  1995       5   \n",
       "\n",
       "   USO_MULTIPLE_NACIONAL  USO_MULTIPLE_IMPORTADO  CLASE1_NACIONAL  \\\n",
       "0                   1778                    1807             2093   \n",
       "1                   1839                     836             1598   \n",
       "2                   1652                     936             2288   \n",
       "3                   1205                     378             1184   \n",
       "4                    843                     434             1267   \n",
       "\n",
       "   CLASE1_IMPORTADO  CLASE2_NACIONAL  CLASE2_IMPORTADO  ...  CLASE3_IMPORTADO  \\\n",
       "0               241             3915                90  ...                 0   \n",
       "1               120             2872                47  ...                 0   \n",
       "2               144             2538                48  ...                 0   \n",
       "3                56             1306                11  ...                 0   \n",
       "4                86             1503                48  ...                 0   \n",
       "\n",
       "   CLASE4_5_6_7_8_NACIONAL  CLASE4_5_6_7_8_IMPORTADO  TRACTOCAMION_NACIONAL  \\\n",
       "0                      604                     397.0                    120   \n",
       "1                      372                     204.0                     60   \n",
       "2                      554                     150.0                     42   \n",
       "3                      158                      35.0                     31   \n",
       "4                      282                      47.0                     38   \n",
       "\n",
       "   TRACTOCAMION_IMPORTADO  CHASÍS_CORAZA_NACIONAL  CHASÍS_CORAZA_IMPORTADO  \\\n",
       "0                     0.0                      33                      0.0   \n",
       "1                    16.0                      36                      0.0   \n",
       "2                     0.0                      92                      0.0   \n",
       "3                    15.0                       9                      0.0   \n",
       "4                     0.0                      31                      0.0   \n",
       "\n",
       "   AUTOBUS_INTEGRAL_NACIONAL  AUTOBUS_INTEGRAL_IMPORTADO              ESTATUS  \n",
       "0                         17                         2.0  Cifras Definitivas.  \n",
       "1                         24                        15.0  Cifras Definitivas.  \n",
       "2                         15                        31.0  Cifras Definitivas.  \n",
       "3                          5                         1.0  Cifras Definitivas.  \n",
       "4                          3                         1.0  Cifras Definitivas.  \n",
       "\n",
       "[5 rows x 21 columns]"
      ],
      "text/html": [
       "<div>\n",
       "<style scoped>\n",
       "    .dataframe tbody tr th:only-of-type {\n",
       "        vertical-align: middle;\n",
       "    }\n",
       "\n",
       "    .dataframe tbody tr th {\n",
       "        vertical-align: top;\n",
       "    }\n",
       "\n",
       "    .dataframe thead th {\n",
       "        text-align: right;\n",
       "    }\n",
       "</style>\n",
       "<table border=\"1\" class=\"dataframe\">\n",
       "  <thead>\n",
       "    <tr style=\"text-align: right;\">\n",
       "      <th></th>\n",
       "      <th>PROD_EST</th>\n",
       "      <th>COBERTURA</th>\n",
       "      <th>ANIO</th>\n",
       "      <th>ID_MES</th>\n",
       "      <th>USO_MULTIPLE_NACIONAL</th>\n",
       "      <th>USO_MULTIPLE_IMPORTADO</th>\n",
       "      <th>CLASE1_NACIONAL</th>\n",
       "      <th>CLASE1_IMPORTADO</th>\n",
       "      <th>CLASE2_NACIONAL</th>\n",
       "      <th>CLASE2_IMPORTADO</th>\n",
       "      <th>...</th>\n",
       "      <th>CLASE3_IMPORTADO</th>\n",
       "      <th>CLASE4_5_6_7_8_NACIONAL</th>\n",
       "      <th>CLASE4_5_6_7_8_IMPORTADO</th>\n",
       "      <th>TRACTOCAMION_NACIONAL</th>\n",
       "      <th>TRACTOCAMION_IMPORTADO</th>\n",
       "      <th>CHASÍS_CORAZA_NACIONAL</th>\n",
       "      <th>CHASÍS_CORAZA_IMPORTADO</th>\n",
       "      <th>AUTOBUS_INTEGRAL_NACIONAL</th>\n",
       "      <th>AUTOBUS_INTEGRAL_IMPORTADO</th>\n",
       "      <th>ESTATUS</th>\n",
       "    </tr>\n",
       "  </thead>\n",
       "  <tbody>\n",
       "    <tr>\n",
       "      <th>0</th>\n",
       "      <td>Vehículos de motor registrados en circulación....</td>\n",
       "      <td>Nacional</td>\n",
       "      <td>1995</td>\n",
       "      <td>1</td>\n",
       "      <td>1778</td>\n",
       "      <td>1807</td>\n",
       "      <td>2093</td>\n",
       "      <td>241</td>\n",
       "      <td>3915</td>\n",
       "      <td>90</td>\n",
       "      <td>...</td>\n",
       "      <td>0</td>\n",
       "      <td>604</td>\n",
       "      <td>397.0</td>\n",
       "      <td>120</td>\n",
       "      <td>0.0</td>\n",
       "      <td>33</td>\n",
       "      <td>0.0</td>\n",
       "      <td>17</td>\n",
       "      <td>2.0</td>\n",
       "      <td>Cifras Definitivas.</td>\n",
       "    </tr>\n",
       "    <tr>\n",
       "      <th>1</th>\n",
       "      <td>Vehículos de motor registrados en circulación....</td>\n",
       "      <td>Nacional</td>\n",
       "      <td>1995</td>\n",
       "      <td>2</td>\n",
       "      <td>1839</td>\n",
       "      <td>836</td>\n",
       "      <td>1598</td>\n",
       "      <td>120</td>\n",
       "      <td>2872</td>\n",
       "      <td>47</td>\n",
       "      <td>...</td>\n",
       "      <td>0</td>\n",
       "      <td>372</td>\n",
       "      <td>204.0</td>\n",
       "      <td>60</td>\n",
       "      <td>16.0</td>\n",
       "      <td>36</td>\n",
       "      <td>0.0</td>\n",
       "      <td>24</td>\n",
       "      <td>15.0</td>\n",
       "      <td>Cifras Definitivas.</td>\n",
       "    </tr>\n",
       "    <tr>\n",
       "      <th>2</th>\n",
       "      <td>Vehículos de motor registrados en circulación....</td>\n",
       "      <td>Nacional</td>\n",
       "      <td>1995</td>\n",
       "      <td>3</td>\n",
       "      <td>1652</td>\n",
       "      <td>936</td>\n",
       "      <td>2288</td>\n",
       "      <td>144</td>\n",
       "      <td>2538</td>\n",
       "      <td>48</td>\n",
       "      <td>...</td>\n",
       "      <td>0</td>\n",
       "      <td>554</td>\n",
       "      <td>150.0</td>\n",
       "      <td>42</td>\n",
       "      <td>0.0</td>\n",
       "      <td>92</td>\n",
       "      <td>0.0</td>\n",
       "      <td>15</td>\n",
       "      <td>31.0</td>\n",
       "      <td>Cifras Definitivas.</td>\n",
       "    </tr>\n",
       "    <tr>\n",
       "      <th>3</th>\n",
       "      <td>Vehículos de motor registrados en circulación....</td>\n",
       "      <td>Nacional</td>\n",
       "      <td>1995</td>\n",
       "      <td>4</td>\n",
       "      <td>1205</td>\n",
       "      <td>378</td>\n",
       "      <td>1184</td>\n",
       "      <td>56</td>\n",
       "      <td>1306</td>\n",
       "      <td>11</td>\n",
       "      <td>...</td>\n",
       "      <td>0</td>\n",
       "      <td>158</td>\n",
       "      <td>35.0</td>\n",
       "      <td>31</td>\n",
       "      <td>15.0</td>\n",
       "      <td>9</td>\n",
       "      <td>0.0</td>\n",
       "      <td>5</td>\n",
       "      <td>1.0</td>\n",
       "      <td>Cifras Definitivas.</td>\n",
       "    </tr>\n",
       "    <tr>\n",
       "      <th>4</th>\n",
       "      <td>Vehículos de motor registrados en circulación....</td>\n",
       "      <td>Nacional</td>\n",
       "      <td>1995</td>\n",
       "      <td>5</td>\n",
       "      <td>843</td>\n",
       "      <td>434</td>\n",
       "      <td>1267</td>\n",
       "      <td>86</td>\n",
       "      <td>1503</td>\n",
       "      <td>48</td>\n",
       "      <td>...</td>\n",
       "      <td>0</td>\n",
       "      <td>282</td>\n",
       "      <td>47.0</td>\n",
       "      <td>38</td>\n",
       "      <td>0.0</td>\n",
       "      <td>31</td>\n",
       "      <td>0.0</td>\n",
       "      <td>3</td>\n",
       "      <td>1.0</td>\n",
       "      <td>Cifras Definitivas.</td>\n",
       "    </tr>\n",
       "  </tbody>\n",
       "</table>\n",
       "<p>5 rows × 21 columns</p>\n",
       "</div>"
      ]
     },
     "metadata": {},
     "execution_count": 52
    }
   ],
   "metadata": {}
  },
  {
   "cell_type": "markdown",
   "source": [
    "Existen datos de los vehiculos registrados por mes desde 1991 a 2018, pero no se encuentran a nivel municipal por lo que se considera que estos datos no son servirián para el analisis buscado. "
   ],
   "metadata": {}
  },
  {
   "cell_type": "code",
   "execution_count": 53,
   "source": [
    "vehiculos_mensual.info()"
   ],
   "outputs": [
    {
     "output_type": "stream",
     "name": "stdout",
     "text": [
      "<class 'pandas.core.frame.DataFrame'>\n",
      "RangeIndex: 318 entries, 0 to 317\n",
      "Data columns (total 21 columns):\n",
      " #   Column                      Non-Null Count  Dtype  \n",
      "---  ------                      --------------  -----  \n",
      " 0   PROD_EST                    318 non-null    object \n",
      " 1   COBERTURA                   318 non-null    object \n",
      " 2   ANIO                        318 non-null    int64  \n",
      " 3   ID_MES                      318 non-null    int64  \n",
      " 4   USO_MULTIPLE_NACIONAL       318 non-null    int64  \n",
      " 5   USO_MULTIPLE_IMPORTADO      318 non-null    int64  \n",
      " 6   CLASE1_NACIONAL             318 non-null    int64  \n",
      " 7   CLASE1_IMPORTADO            318 non-null    int64  \n",
      " 8   CLASE2_NACIONAL             318 non-null    int64  \n",
      " 9   CLASE2_IMPORTADO            318 non-null    int64  \n",
      " 10  CLASE3_NACIONAL             318 non-null    int64  \n",
      " 11  CLASE3_IMPORTADO            318 non-null    int64  \n",
      " 12  CLASE4_5_6_7_8_NACIONAL     318 non-null    int64  \n",
      " 13  CLASE4_5_6_7_8_IMPORTADO    201 non-null    float64\n",
      " 14  TRACTOCAMION_NACIONAL       318 non-null    int64  \n",
      " 15  TRACTOCAMION_IMPORTADO      201 non-null    float64\n",
      " 16  CHASÍS_CORAZA_NACIONAL      318 non-null    int64  \n",
      " 17  CHASÍS_CORAZA_IMPORTADO     204 non-null    float64\n",
      " 18  AUTOBUS_INTEGRAL_NACIONAL   318 non-null    int64  \n",
      " 19  AUTOBUS_INTEGRAL_IMPORTADO  201 non-null    float64\n",
      " 20  ESTATUS                     318 non-null    object \n",
      "dtypes: float64(4), int64(14), object(3)\n",
      "memory usage: 52.3+ KB\n"
     ]
    }
   ],
   "metadata": {}
  },
  {
   "cell_type": "code",
   "execution_count": 55,
   "source": [
    "vehiculos_mensual.ANIO.unique()"
   ],
   "outputs": [
    {
     "output_type": "execute_result",
     "data": {
      "text/plain": [
       "array([1995, 1996, 1997, 1998, 1999, 2000, 2001, 2002, 2003, 2004, 2005,\n",
       "       2006, 2007, 2008, 2009, 2010, 2011, 2012, 2013, 2014, 2015, 2016,\n",
       "       2017, 2018, 2019, 2020, 2021])"
      ]
     },
     "metadata": {},
     "execution_count": 55
    }
   ],
   "metadata": {}
  }
 ],
 "metadata": {
  "kernelspec": {
   "display_name": "Python 3",
   "language": "python",
   "name": "python3"
  },
  "language_info": {
   "codemirror_mode": {
    "name": "ipython",
    "version": 3
   },
   "file_extension": ".py",
   "mimetype": "text/x-python",
   "name": "python",
   "nbconvert_exporter": "python",
   "pygments_lexer": "ipython3",
   "version": "3.8.3"
  }
 },
 "nbformat": 4,
 "nbformat_minor": 2
}